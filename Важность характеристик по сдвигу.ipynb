{
 "cells": [
  {
   "cell_type": "markdown",
   "metadata": {},
   "source": [
    "# Нажмите Run или Ctrl + Enter\n",
    "### Изменение Важности характеристик во времени"
   ]
  },
  {
   "cell_type": "code",
   "execution_count": 1,
   "metadata": {},
   "outputs": [
    {
     "name": "stdout",
     "output_type": "stream",
     "text": [
      "['/mnt/hit4/hit4user/PycharmProjects/mysql_connector/final_features_X_0.pickle', '/mnt/hit4/hit4user/PycharmProjects/mysql_connector/final_features_X_1.pickle']\n",
      "['/mnt/hit4/hit4user/PycharmProjects/mysql_connector/final_features_X_0.pickle', '/mnt/hit4/hit4user/PycharmProjects/mysql_connector/final_features_X_1.pickle']\n",
      "Количество сделок:  deal_created_date  deal_created_date\n",
      "2019               11                    349\n",
      "                   12                   1832\n",
      "2020               1                    2139\n",
      "                   2                    6168\n",
      "                   3                    7504\n",
      "                   4                      26\n",
      "                   5                       2\n",
      "                   6                     642\n",
      "                   7                    4883\n",
      "Name: deal_created_date, dtype: int64\n"
     ]
    },
    {
     "data": {
      "application/vnd.jupyter.widget-view+json": {
       "model_id": "3c77ca0fb4604ca19bbc6545d11fc0d9",
       "version_major": 2,
       "version_minor": 0
      },
      "text/plain": [
       "interactive(children=(IntSlider(value=2000, continuous_update=False, description='Строк в интервале:', max=700…"
      ]
     },
     "metadata": {},
     "output_type": "display_data"
    }
   ],
   "source": [
    "from modules.interact_period import w_days, w_months, w_rec, f\n",
    "from modules.load import load\n",
    "from ipywidgets import interact, fixed\n",
    "\n",
    "dates, X, Y = load()\n",
    "print(\"Количество сделок: \", dates.groupby([dates.dt.year, dates.dt.month]).agg('count'))\n",
    "\n",
    "interact(f, rec=w_rec, days=w_days, months=w_months, dates=fixed(dates), X=fixed(X), Y=fixed(Y));"
   ]
  },
  {
   "cell_type": "code",
   "execution_count": null,
   "metadata": {},
   "outputs": [],
   "source": []
  },
  {
   "cell_type": "code",
   "execution_count": null,
   "metadata": {},
   "outputs": [],
   "source": []
  },
  {
   "cell_type": "code",
   "execution_count": null,
   "metadata": {},
   "outputs": [],
   "source": []
  }
 ],
 "metadata": {
  "kernelspec": {
   "display_name": "Python 3",
   "language": "python",
   "name": "python3"
  },
  "language_info": {
   "codemirror_mode": {
    "name": "ipython",
    "version": 3
   },
   "file_extension": ".py",
   "mimetype": "text/x-python",
   "name": "python",
   "nbconvert_exporter": "python",
   "pygments_lexer": "ipython3",
   "version": "3.8.10"
  }
 },
 "nbformat": 4,
 "nbformat_minor": 4
}
