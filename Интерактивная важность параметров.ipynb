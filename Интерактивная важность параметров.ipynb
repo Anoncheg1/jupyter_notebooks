{
 "cells": [
  {
   "cell_type": "markdown",
   "metadata": {},
   "source": [
    "# Нажмите Run или Ctrl + Enter\n",
    "### Важность характеристик за период"
   ]
  },
  {
   "cell_type": "code",
   "execution_count": 1,
   "metadata": {
    "scrolled": true
   },
   "outputs": [
    {
     "name": "stderr",
     "output_type": "stream",
     "text": [
      "/home/u2/.local/lib/python3.8/site-packages/xgboost/compat.py:36: FutureWarning: pandas.Int64Index is deprecated and will be removed from pandas in a future version. Use pandas.Index with the appropriate dtype instead.\n",
      "  from pandas import MultiIndex, Int64Index\n"
     ]
    },
    {
     "name": "stdout",
     "output_type": "stream",
     "text": [
      "['/mnt/hit4/hit4user/PycharmProjects/mysql_connector/final_features_X_0.pickle', '/mnt/hit4/hit4user/PycharmProjects/mysql_connector/final_features_X_1.pickle']\n",
      "['/mnt/hit4/hit4user/PycharmProjects/mysql_connector/final_features_X_0.pickle', '/mnt/hit4/hit4user/PycharmProjects/mysql_connector/final_features_X_1.pickle']\n"
     ]
    },
    {
     "data": {
      "application/vnd.jupyter.widget-view+json": {
       "model_id": "0b8a6109b7884ae798cb752dccfe6cb2",
       "version_major": 2,
       "version_minor": 0
      },
      "text/plain": [
       "interactive(children=(DatePicker(value=datetime.date(2019, 11, 20), description='Начало выборки', step=1, styl…"
      ]
     },
     "metadata": {},
     "output_type": "display_data"
    }
   ],
   "source": [
    "from modules.interact_feature_importance import date_pick_b, date_pick_f, f\n",
    "from modules.load import load\n",
    "from ipywidgets import interact, fixed\n",
    "dates, X, Y = load()\n",
    "interact(f, d1=date_pick_b, d2=date_pick_f, dates=fixed(dates), X=fixed(X), Y=fixed(Y));"
   ]
  },
  {
   "cell_type": "code",
   "execution_count": null,
   "metadata": {},
   "outputs": [],
   "source": []
  }
 ],
 "metadata": {
  "kernelspec": {
   "display_name": "Python 3",
   "language": "python",
   "name": "python3"
  },
  "language_info": {
   "codemirror_mode": {
    "name": "ipython",
    "version": 3
   },
   "file_extension": ".py",
   "mimetype": "text/x-python",
   "name": "python",
   "nbconvert_exporter": "python",
   "pygments_lexer": "ipython3",
   "version": "3.8.10"
  },
  "widgets": {
   "application/vnd.jupyter.widget-state+json": {
    "state": {
     "0105d6d7a2be42588c66053dbf84f0d3": {
      "model_module": "@jupyter-widgets/base",
      "model_module_version": "1.2.0",
      "model_name": "LayoutModel",
      "state": {}
     },
     "0329b35d071d44b8a8e2be1227c75ee6": {
      "model_module": "@jupyter-widgets/base",
      "model_module_version": "1.2.0",
      "model_name": "LayoutModel",
      "state": {}
     },
     "09ded42238cf404b9f52f626260324ea": {
      "model_module": "@jupyter-widgets/base",
      "model_module_version": "1.2.0",
      "model_name": "LayoutModel",
      "state": {}
     },
     "177ee94529b84cfa8baf919aa48034fe": {
      "model_module": "@jupyter-widgets/base",
      "model_module_version": "1.2.0",
      "model_name": "LayoutModel",
      "state": {}
     },
     "1f4042e03a3c4c81b8c29e0decf90014": {
      "model_module": "@jupyter-widgets/controls",
      "model_module_version": "1.5.0",
      "model_name": "DescriptionStyleModel",
      "state": {
       "description_width": ""
      }
     },
     "21cbe22d91724ee6a7a0af7b7cd2b6ec": {
      "model_module": "@jupyter-widgets/output",
      "model_module_version": "1.0.0",
      "model_name": "OutputModel",
      "state": {
       "layout": "IPY_MODEL_46887e3c16da4f86a8f5306ae690665c"
      }
     },
     "2a49183c06754143909ccf07f620aae4": {
      "model_module": "@jupyter-widgets/controls",
      "model_module_version": "1.5.0",
      "model_name": "DescriptionStyleModel",
      "state": {
       "description_width": ""
      }
     },
     "2bf0578e457447bb99b5ca78490ab948": {
      "model_module": "@jupyter-widgets/base",
      "model_module_version": "1.2.0",
      "model_name": "LayoutModel",
      "state": {}
     },
     "334b77934d1c447e9b162b2743ba73af": {
      "model_module": "@jupyter-widgets/controls",
      "model_module_version": "1.5.0",
      "model_name": "DatePickerModel",
      "state": {
       "description": "Pick a Date",
       "disabled": false,
       "layout": "IPY_MODEL_a5123800239244e6abe971fc17c59960",
       "style": "IPY_MODEL_3a189621906d49ce92610cb715cb960e"
      }
     },
     "360bad3a6dbc41da8f97965ff72df1f4": {
      "model_module": "@jupyter-widgets/output",
      "model_module_version": "1.0.0",
      "model_name": "OutputModel",
      "state": {
       "layout": "IPY_MODEL_70075f58130748049e131c26c2b203e2"
      }
     },
     "36288d1e2132418fbc095831684ff1d3": {
      "model_module": "@jupyter-widgets/controls",
      "model_module_version": "1.5.0",
      "model_name": "VBoxModel",
      "state": {
       "_dom_classes": [
        "widget-interact"
       ],
       "children": [
        "IPY_MODEL_b91daa7e410e4594b3925101c954b17c"
       ],
       "layout": "IPY_MODEL_f1a232b40bd64c6ab19eb8a6a8135cb4"
      }
     },
     "3a189621906d49ce92610cb715cb960e": {
      "model_module": "@jupyter-widgets/controls",
      "model_module_version": "1.5.0",
      "model_name": "DescriptionStyleModel",
      "state": {
       "description_width": ""
      }
     },
     "3cf66e3ea9634cd5b0e0a13e9335fb6c": {
      "model_module": "@jupyter-widgets/base",
      "model_module_version": "1.2.0",
      "model_name": "LayoutModel",
      "state": {}
     },
     "3ddaf2f4969e4cfaa534fd8a3c3ccc58": {
      "model_module": "@jupyter-widgets/base",
      "model_module_version": "1.2.0",
      "model_name": "LayoutModel",
      "state": {}
     },
     "46887e3c16da4f86a8f5306ae690665c": {
      "model_module": "@jupyter-widgets/base",
      "model_module_version": "1.2.0",
      "model_name": "LayoutModel",
      "state": {}
     },
     "47888a2d1b7c4f82ab60cb393229eace": {
      "model_module": "@jupyter-widgets/base",
      "model_module_version": "1.2.0",
      "model_name": "LayoutModel",
      "state": {}
     },
     "49272802de854a6180025849acefa23d": {
      "model_module": "@jupyter-widgets/base",
      "model_module_version": "1.2.0",
      "model_name": "LayoutModel",
      "state": {}
     },
     "4eda79f6dd3c4d7f962b73bd9752a2de": {
      "model_module": "@jupyter-widgets/output",
      "model_module_version": "1.0.0",
      "model_name": "OutputModel",
      "state": {
       "layout": "IPY_MODEL_8d1934225d5b431b8e73ecc272450c89"
      }
     },
     "4f68cbaf3087424395c74e826069a7c5": {
      "model_module": "@jupyter-widgets/controls",
      "model_module_version": "1.5.0",
      "model_name": "DatePickerModel",
      "state": {
       "description": "Pick a Date",
       "disabled": false,
       "layout": "IPY_MODEL_0329b35d071d44b8a8e2be1227c75ee6",
       "style": "IPY_MODEL_54361473595a440190f67cd46f15633d"
      }
     },
     "503592ef20734b568c886d0cb7f971e7": {
      "model_module": "@jupyter-widgets/base",
      "model_module_version": "1.2.0",
      "model_name": "LayoutModel",
      "state": {}
     },
     "52685ed715ac450aa0521c26ade72d78": {
      "model_module": "@jupyter-widgets/controls",
      "model_module_version": "1.5.0",
      "model_name": "VBoxModel",
      "state": {
       "_dom_classes": [
        "widget-interact"
       ],
       "children": [
        "IPY_MODEL_ee19aade7a2b43aa8734afaccc8f7cff",
        "IPY_MODEL_21cbe22d91724ee6a7a0af7b7cd2b6ec"
       ],
       "layout": "IPY_MODEL_7693e30332a64c68ae133b21fa5b5952"
      }
     },
     "54361473595a440190f67cd46f15633d": {
      "model_module": "@jupyter-widgets/controls",
      "model_module_version": "1.5.0",
      "model_name": "DescriptionStyleModel",
      "state": {
       "description_width": ""
      }
     },
     "61a564dc36f0435f9692782f1782c986": {
      "model_module": "@jupyter-widgets/controls",
      "model_module_version": "1.5.0",
      "model_name": "DescriptionStyleModel",
      "state": {
       "description_width": ""
      }
     },
     "70075f58130748049e131c26c2b203e2": {
      "model_module": "@jupyter-widgets/base",
      "model_module_version": "1.2.0",
      "model_name": "LayoutModel",
      "state": {}
     },
     "72cb99a9edaf4173bbad10b655b5cdff": {
      "model_module": "@jupyter-widgets/base",
      "model_module_version": "1.2.0",
      "model_name": "LayoutModel",
      "state": {}
     },
     "74a1800c797f4a8ca307b434bdb1ccf0": {
      "model_module": "@jupyter-widgets/controls",
      "model_module_version": "1.5.0",
      "model_name": "DatePickerModel",
      "state": {
       "description": "Pick a Date",
       "disabled": false,
       "layout": "IPY_MODEL_c6163ce6e43347f0a33abeeac070c9fe",
       "style": "IPY_MODEL_7e419745d0e24760ad9854b1361ba7d2"
      }
     },
     "7693e30332a64c68ae133b21fa5b5952": {
      "model_module": "@jupyter-widgets/base",
      "model_module_version": "1.2.0",
      "model_name": "LayoutModel",
      "state": {}
     },
     "7b8e793551134740b806cff33c3f91ac": {
      "model_module": "@jupyter-widgets/controls",
      "model_module_version": "1.5.0",
      "model_name": "CheckboxModel",
      "state": {
       "description": "x",
       "disabled": false,
       "layout": "IPY_MODEL_72cb99a9edaf4173bbad10b655b5cdff",
       "style": "IPY_MODEL_2a49183c06754143909ccf07f620aae4",
       "value": true
      }
     },
     "7e419745d0e24760ad9854b1361ba7d2": {
      "model_module": "@jupyter-widgets/controls",
      "model_module_version": "1.5.0",
      "model_name": "DescriptionStyleModel",
      "state": {
       "description_width": ""
      }
     },
     "7fd545e6dc224718a9c2b193501626af": {
      "model_module": "@jupyter-widgets/controls",
      "model_module_version": "1.5.0",
      "model_name": "VBoxModel",
      "state": {
       "_dom_classes": [
        "widget-interact"
       ],
       "children": [
        "IPY_MODEL_b236615375dd479b9dea61a790c54c98"
       ],
       "layout": "IPY_MODEL_995cf02f8c2f4623ab773352ed6772b1"
      }
     },
     "81ebd832ad0044f6801e0b4df50b4369": {
      "model_module": "@jupyter-widgets/controls",
      "model_module_version": "1.5.0",
      "model_name": "DatePickerModel",
      "state": {
       "description": "Pick a Date",
       "disabled": false,
       "layout": "IPY_MODEL_d1704ed8c7a8420d8fbd1ebb1f25e53c",
       "style": "IPY_MODEL_1f4042e03a3c4c81b8c29e0decf90014"
      }
     },
     "82de0da08d5e429b8b150e33654c6ea8": {
      "model_module": "@jupyter-widgets/base",
      "model_module_version": "1.2.0",
      "model_name": "LayoutModel",
      "state": {}
     },
     "8d1934225d5b431b8e73ecc272450c89": {
      "model_module": "@jupyter-widgets/base",
      "model_module_version": "1.2.0",
      "model_name": "LayoutModel",
      "state": {}
     },
     "8f2084f700734a3a8f796e8dc4742b45": {
      "model_module": "@jupyter-widgets/base",
      "model_module_version": "1.2.0",
      "model_name": "LayoutModel",
      "state": {}
     },
     "96427b7c700545c6b49a27140e7948ea": {
      "model_module": "@jupyter-widgets/controls",
      "model_module_version": "1.5.0",
      "model_name": "VBoxModel",
      "state": {
       "_dom_classes": [
        "widget-interact"
       ],
       "children": [
        "IPY_MODEL_7b8e793551134740b806cff33c3f91ac",
        "IPY_MODEL_4eda79f6dd3c4d7f962b73bd9752a2de"
       ],
       "layout": "IPY_MODEL_82de0da08d5e429b8b150e33654c6ea8"
      }
     },
     "995cf02f8c2f4623ab773352ed6772b1": {
      "model_module": "@jupyter-widgets/base",
      "model_module_version": "1.2.0",
      "model_name": "LayoutModel",
      "state": {}
     },
     "a391651cf36145e78e0eb96171e30b86": {
      "model_module": "@jupyter-widgets/output",
      "model_module_version": "1.0.0",
      "model_name": "OutputModel",
      "state": {
       "layout": "IPY_MODEL_c9900b8746ac4fe9b21fbd2efd6e8885"
      }
     },
     "a5123800239244e6abe971fc17c59960": {
      "model_module": "@jupyter-widgets/base",
      "model_module_version": "1.2.0",
      "model_name": "LayoutModel",
      "state": {}
     },
     "a9c714046f0d494db756aa3dde6d15f3": {
      "model_module": "@jupyter-widgets/output",
      "model_module_version": "1.0.0",
      "model_name": "OutputModel",
      "state": {
       "layout": "IPY_MODEL_0105d6d7a2be42588c66053dbf84f0d3"
      }
     },
     "b236615375dd479b9dea61a790c54c98": {
      "model_module": "@jupyter-widgets/output",
      "model_module_version": "1.0.0",
      "model_name": "OutputModel",
      "state": {
       "layout": "IPY_MODEL_cd5ea30f2d7340548ca9e1273d06d078"
      }
     },
     "b5ccdc4267cc4ce4b452af64bbb46af7": {
      "model_module": "@jupyter-widgets/base",
      "model_module_version": "1.2.0",
      "model_name": "LayoutModel",
      "state": {}
     },
     "b91daa7e410e4594b3925101c954b17c": {
      "model_module": "@jupyter-widgets/output",
      "model_module_version": "1.0.0",
      "model_name": "OutputModel",
      "state": {
       "layout": "IPY_MODEL_2bf0578e457447bb99b5ca78490ab948"
      }
     },
     "b9e107828f5a48d585bec087345524ca": {
      "model_module": "@jupyter-widgets/controls",
      "model_module_version": "1.5.0",
      "model_name": "VBoxModel",
      "state": {
       "_dom_classes": [
        "widget-interact"
       ],
       "children": [
        "IPY_MODEL_360bad3a6dbc41da8f97965ff72df1f4"
       ],
       "layout": "IPY_MODEL_3ddaf2f4969e4cfaa534fd8a3c3ccc58"
      }
     },
     "c12736d8d0084230ba39e6e766e28fd7": {
      "model_module": "@jupyter-widgets/controls",
      "model_module_version": "1.5.0",
      "model_name": "DescriptionStyleModel",
      "state": {
       "description_width": ""
      }
     },
     "c6163ce6e43347f0a33abeeac070c9fe": {
      "model_module": "@jupyter-widgets/base",
      "model_module_version": "1.2.0",
      "model_name": "LayoutModel",
      "state": {}
     },
     "c6ebee9fe9af4fd8846055ba172954d5": {
      "model_module": "@jupyter-widgets/controls",
      "model_module_version": "1.5.0",
      "model_name": "DatePickerModel",
      "state": {
       "description": "Pick a Date",
       "disabled": false,
       "layout": "IPY_MODEL_df243c801923493cbc8ad8885b945f9a",
       "style": "IPY_MODEL_61a564dc36f0435f9692782f1782c986"
      }
     },
     "c7955d1a4e0e4e7c985d9125a0cc4af3": {
      "model_module": "@jupyter-widgets/controls",
      "model_module_version": "1.5.0",
      "model_name": "VBoxModel",
      "state": {
       "_dom_classes": [
        "widget-interact"
       ],
       "children": [
        "IPY_MODEL_4f68cbaf3087424395c74e826069a7c5",
        "IPY_MODEL_a9c714046f0d494db756aa3dde6d15f3"
       ],
       "layout": "IPY_MODEL_177ee94529b84cfa8baf919aa48034fe"
      }
     },
     "c91bfb40aef247f19e3bcae5064bbc3c": {
      "model_module": "@jupyter-widgets/base",
      "model_module_version": "1.2.0",
      "model_name": "LayoutModel",
      "state": {}
     },
     "c9900b8746ac4fe9b21fbd2efd6e8885": {
      "model_module": "@jupyter-widgets/base",
      "model_module_version": "1.2.0",
      "model_name": "LayoutModel",
      "state": {}
     },
     "cd5ea30f2d7340548ca9e1273d06d078": {
      "model_module": "@jupyter-widgets/base",
      "model_module_version": "1.2.0",
      "model_name": "LayoutModel",
      "state": {}
     },
     "cfb8ee1591094a05b88d4c5c78ba04c7": {
      "model_module": "@jupyter-widgets/output",
      "model_module_version": "1.0.0",
      "model_name": "OutputModel",
      "state": {
       "layout": "IPY_MODEL_47888a2d1b7c4f82ab60cb393229eace"
      }
     },
     "d036cf6f39354db3b30227bf6157c770": {
      "model_module": "@jupyter-widgets/controls",
      "model_module_version": "1.5.0",
      "model_name": "VBoxModel",
      "state": {
       "_dom_classes": [
        "widget-interact"
       ],
       "children": [
        "IPY_MODEL_334b77934d1c447e9b162b2743ba73af",
        "IPY_MODEL_e88ffcf3451a4fbaaf06d5838de6701a"
       ],
       "layout": "IPY_MODEL_dddd56aad9be457c94e0725d21c54a67"
      }
     },
     "d1704ed8c7a8420d8fbd1ebb1f25e53c": {
      "model_module": "@jupyter-widgets/base",
      "model_module_version": "1.2.0",
      "model_name": "LayoutModel",
      "state": {}
     },
     "d469230269644b2abd529f5dc0692ee8": {
      "model_module": "@jupyter-widgets/controls",
      "model_module_version": "1.5.0",
      "model_name": "VBoxModel",
      "state": {
       "_dom_classes": [
        "widget-interact"
       ],
       "children": [
        "IPY_MODEL_a391651cf36145e78e0eb96171e30b86"
       ],
       "layout": "IPY_MODEL_8f2084f700734a3a8f796e8dc4742b45"
      }
     },
     "d4c0307b02ed423cbc3618e86f25fedd": {
      "model_module": "@jupyter-widgets/controls",
      "model_module_version": "1.5.0",
      "model_name": "VBoxModel",
      "state": {
       "_dom_classes": [
        "widget-interact"
       ],
       "children": [
        "IPY_MODEL_81ebd832ad0044f6801e0b4df50b4369",
        "IPY_MODEL_cfb8ee1591094a05b88d4c5c78ba04c7"
       ],
       "layout": "IPY_MODEL_b5ccdc4267cc4ce4b452af64bbb46af7"
      }
     },
     "d67b1d223a0949e1b9af2023cd511f78": {
      "model_module": "@jupyter-widgets/output",
      "model_module_version": "1.0.0",
      "model_name": "OutputModel",
      "state": {
       "layout": "IPY_MODEL_effc86b1c0544a328dba85e455b735a1"
      }
     },
     "dddd56aad9be457c94e0725d21c54a67": {
      "model_module": "@jupyter-widgets/base",
      "model_module_version": "1.2.0",
      "model_name": "LayoutModel",
      "state": {}
     },
     "df243c801923493cbc8ad8885b945f9a": {
      "model_module": "@jupyter-widgets/base",
      "model_module_version": "1.2.0",
      "model_name": "LayoutModel",
      "state": {}
     },
     "e88ffcf3451a4fbaaf06d5838de6701a": {
      "model_module": "@jupyter-widgets/output",
      "model_module_version": "1.0.0",
      "model_name": "OutputModel",
      "state": {
       "layout": "IPY_MODEL_49272802de854a6180025849acefa23d"
      }
     },
     "ee19aade7a2b43aa8734afaccc8f7cff": {
      "model_module": "@jupyter-widgets/controls",
      "model_module_version": "1.5.0",
      "model_name": "DatePickerModel",
      "state": {
       "description": "Pick a Date",
       "disabled": false,
       "layout": "IPY_MODEL_09ded42238cf404b9f52f626260324ea",
       "style": "IPY_MODEL_c12736d8d0084230ba39e6e766e28fd7",
       "value": {
        "date": 17,
        "month": 5,
        "year": 2020
       }
      }
     },
     "effc86b1c0544a328dba85e455b735a1": {
      "model_module": "@jupyter-widgets/base",
      "model_module_version": "1.2.0",
      "model_name": "LayoutModel",
      "state": {}
     },
     "f1a232b40bd64c6ab19eb8a6a8135cb4": {
      "model_module": "@jupyter-widgets/base",
      "model_module_version": "1.2.0",
      "model_name": "LayoutModel",
      "state": {}
     },
     "f4b2b7e9b9604aed876b758f1e03f6f7": {
      "model_module": "@jupyter-widgets/controls",
      "model_module_version": "1.5.0",
      "model_name": "VBoxModel",
      "state": {
       "_dom_classes": [
        "widget-interact"
       ],
       "children": [
        "IPY_MODEL_d67b1d223a0949e1b9af2023cd511f78"
       ],
       "layout": "IPY_MODEL_3cf66e3ea9634cd5b0e0a13e9335fb6c"
      }
     },
     "fa4d33a3ed5c4777b0f18e6b2de43bb8": {
      "model_module": "@jupyter-widgets/output",
      "model_module_version": "1.0.0",
      "model_name": "OutputModel",
      "state": {
       "layout": "IPY_MODEL_c91bfb40aef247f19e3bcae5064bbc3c"
      }
     },
     "fcac00d3db7244808803486ac3f07424": {
      "model_module": "@jupyter-widgets/controls",
      "model_module_version": "1.5.0",
      "model_name": "VBoxModel",
      "state": {
       "_dom_classes": [
        "widget-interact"
       ],
       "children": [
        "IPY_MODEL_74a1800c797f4a8ca307b434bdb1ccf0",
        "IPY_MODEL_fa4d33a3ed5c4777b0f18e6b2de43bb8"
       ],
       "layout": "IPY_MODEL_503592ef20734b568c886d0cb7f971e7"
      }
     }
    },
    "version_major": 2,
    "version_minor": 0
   }
  }
 },
 "nbformat": 4,
 "nbformat_minor": 4
}
