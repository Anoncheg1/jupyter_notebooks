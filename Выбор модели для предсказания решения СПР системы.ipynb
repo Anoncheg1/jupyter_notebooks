{
 "cells": [
  {
   "cell_type": "code",
   "execution_count": 2,
   "metadata": {},
   "outputs": [
    {
     "name": "stdout",
     "output_type": "stream",
     "text": [
      "X строк, столбцов (11036, 210)\n",
      "Y (11036,)\n",
      "Y OK 4193\n",
      "Y FAIL 6843\n",
      "FAIL/OK 1\n",
      "Nan exist? False\n"
     ]
    }
   ],
   "source": [
    "import pandas\n",
    "from sklearn.preprocessing import StandardScaler, scale\n",
    "from sklearn.model_selection import StratifiedKFold, KFold\n",
    "from sklearn.model_selection import cross_val_score\n",
    "from sklearn.model_selection import GridSearchCV\n",
    "\n",
    "df: pandas.DataFrame = pandas.read_pickle('/mnt/hit4/hit4user/PycharmProjects/mysql_connector/c')\n",
    "X = df.drop(['system'], 1)\n",
    "X = X.drop(['under'], 1)\n",
    "Y = df['system']\n",
    "print(\"X строк, столбцов\", X.shape)\n",
    "print(\"Y\", Y.shape)\n",
    "p = len(Y[Y == 1])\n",
    "n = len(Y[Y == 0])\n",
    "print(\"Y OK\", p)\n",
    "print(\"Y FAIL\", n)\n",
    "print(\"FAIL/OK\", n // p)\n",
    "print(\"Nan exist?\", df.isnull().values.any())\n",
    "\n",
    "kfold = StratifiedKFold(n_splits=5)"
   ]
  },
  {
   "cell_type": "markdown",
   "metadata": {},
   "source": [
    "# Линеная модель(СПР)"
   ]
  },
  {
   "cell_type": "code",
   "execution_count": 2,
   "metadata": {},
   "outputs": [
    {
     "name": "stdout",
     "output_type": "stream",
     "text": [
      "Accuracy: 0.846235\n"
     ]
    }
   ],
   "source": [
    "# SCALE\n",
    "scaler = StandardScaler().fit(X, Y)\n",
    "X_s = scaler.transform(X)\n",
    "\n",
    "# CROSS-VAL\n",
    "# 1 Linear Regression\n",
    "from sklearn.linear_model import LogisticRegression\n",
    "model = LogisticRegression(max_iter= 340)\n",
    "\n",
    "results = cross_val_score(model, X_s, Y, cv=kfold)\n",
    "print(\"Accuracy: %f\" % results.mean())"
   ]
  },
  {
   "cell_type": "markdown",
   "metadata": {},
   "source": [
    "# Дерево принятия решений с автоматическим подбором параметров(СПР)"
   ]
  },
  {
   "cell_type": "code",
   "execution_count": 7,
   "metadata": {},
   "outputs": [
    {
     "name": "stdout",
     "output_type": "stream",
     "text": [
      "DecisionTreeClassifier(ccp_alpha=0.0, class_weight=None, criterion='entropy',\n",
      "                       max_depth=10, max_features=None, max_leaf_nodes=12,\n",
      "                       min_impurity_decrease=0.0, min_impurity_split=None,\n",
      "                       min_samples_leaf=1, min_samples_split=4,\n",
      "                       min_weight_fraction_leaf=0.0, presort='deprecated',\n",
      "                       random_state=None, splitter='best')\n",
      "Accuracy: 0.847857\n"
     ]
    }
   ],
   "source": [
    "from sklearn.tree import DecisionTreeClassifier\n",
    "params = {'criterion':['gini','entropy'], 'max_leaf_nodes': list(range(4, 20)),\n",
    "          'min_samples_split': [2, 3, 4], 'max_depth': list(range(3, 14))}\n",
    "clf = GridSearchCV(DecisionTreeClassifier(), params, cv=kfold)\n",
    "results = clf.fit(X,Y)\n",
    "print(results.best_estimator_)\n",
    "results = cross_val_score(results.best_estimator_, X, Y, cv=kfold)\n",
    "print(\"Accuracy: %f\" % results.mean())"
   ]
  },
  {
   "cell_type": "markdown",
   "metadata": {},
   "source": [
    "# Случайный лес"
   ]
  },
  {
   "cell_type": "markdown",
   "metadata": {},
   "source": [
    "## 1. СПР"
   ]
  },
  {
   "cell_type": "code",
   "execution_count": 8,
   "metadata": {},
   "outputs": [
    {
     "name": "stdout",
     "output_type": "stream",
     "text": [
      "RandomForestClassifier(bootstrap=True, ccp_alpha=0.0, class_weight=None,\n",
      "                       criterion='gini', max_depth=10, max_features='auto',\n",
      "                       max_leaf_nodes=17, max_samples=None,\n",
      "                       min_impurity_decrease=0.0, min_impurity_split=None,\n",
      "                       min_samples_leaf=1, min_samples_split=2,\n",
      "                       min_weight_fraction_leaf=0.0, n_estimators=5,\n",
      "                       n_jobs=None, oob_score=False, random_state=None,\n",
      "                       verbose=0, warm_start=False)\n",
      "Accuracy: 0.844209\n"
     ]
    }
   ],
   "source": [
    "from sklearn.ensemble import RandomForestClassifier\n",
    "params = {'n_estimators': [5, 50], 'min_samples_split': [2, 3, 4],\n",
    "          'max_leaf_nodes': list(range(10, 20)), 'max_depth': list(range(3, 13))}\n",
    "clf = GridSearchCV(RandomForestClassifier(), params, cv=kfold)\n",
    "results = clf.fit(X_s, Y)\n",
    "print(results.best_estimator_)\n",
    "results = cross_val_score(results.best_estimator_, X_s, Y, cv=kfold)\n",
    "print(\"Accuracy: %f\" % results.mean())"
   ]
  },
  {
   "cell_type": "markdown",
   "metadata": {},
   "source": [
    "## 2. Андерайтор"
   ]
  },
  {
   "cell_type": "code",
   "execution_count": 4,
   "metadata": {},
   "outputs": [
    {
     "name": "stdout",
     "output_type": "stream",
     "text": [
      "RandomForestClassifier(bootstrap=True, ccp_alpha=0.0, class_weight=None,\n",
      "                       criterion='gini', max_depth=5, max_features='auto',\n",
      "                       max_leaf_nodes=17, max_samples=None,\n",
      "                       min_impurity_decrease=0.0, min_impurity_split=None,\n",
      "                       min_samples_leaf=1, min_samples_split=2,\n",
      "                       min_weight_fraction_leaf=0.0, n_estimators=50,\n",
      "                       n_jobs=None, oob_score=False, random_state=None,\n",
      "                       verbose=0, warm_start=False)\n",
      "Accuracy: 0.990213\n"
     ]
    }
   ],
   "source": [
    "from sklearn.ensemble import RandomForestClassifier\n",
    "X = df.drop(['system'], 1)\n",
    "X = X.drop(['under'], 1)\n",
    "Y = df['under']\n",
    "params = {'n_estimators': [5, 50], 'min_samples_split': [2, 3, 4],\n",
    "          'max_leaf_nodes': list(range(10, 20)), 'max_depth': list(range(3, 13))}\n",
    "clf = GridSearchCV(RandomForestClassifier(), params, cv=kfold)\n",
    "results = clf.fit(X_s, Y)\n",
    "print(results.best_estimator_)\n",
    "results = cross_val_score(results.best_estimator_, X_s, Y, cv=kfold)\n",
    "print(\"Accuracy: %f\" % results.mean())"
   ]
  },
  {
   "cell_type": "markdown",
   "metadata": {},
   "source": [
    "# K ближайших соседей(СПР)"
   ]
  },
  {
   "cell_type": "code",
   "execution_count": 17,
   "metadata": {},
   "outputs": [
    {
     "name": "stdout",
     "output_type": "stream",
     "text": [
      "KNeighborsClassifier(algorithm='auto', leaf_size=5, metric='minkowski',\n",
      "                     metric_params=None, n_jobs=None, n_neighbors=10, p=2,\n",
      "                     weights='uniform')\n",
      "Accuracy: 0.783546\n"
     ]
    }
   ],
   "source": [
    "# SCALE\n",
    "X = df.drop(['system'], 1)\n",
    "X = X.drop(['under'], 1)\n",
    "Y = df['system']\n",
    "X_s = scale(X)\n",
    "\n",
    "from sklearn.neighbors import KNeighborsClassifier\n",
    "params = {'n_neighbors':list(range(6, 11)), 'leaf_size':list(range(5, 40, 5))}\n",
    "clf = GridSearchCV(KNeighborsClassifier(), params, cv=kfold)\n",
    "results = clf.fit(X_s, Y)\n",
    "print(results.best_estimator_)\n",
    "results = cross_val_score(results.best_estimator_, X_s, Y, cv=kfold)\n",
    "print(\"Accuracy: %f\" % results.mean())"
   ]
  },
  {
   "cell_type": "markdown",
   "metadata": {},
   "source": [
    "# XGBoost ручной подбор параметров (СПР)"
   ]
  },
  {
   "cell_type": "code",
   "execution_count": 3,
   "metadata": {},
   "outputs": [
    {
     "name": "stdout",
     "output_type": "stream",
     "text": [
      "cross-train accuracy train\t 0.8484882444444445\n",
      "cross-train gini\t 0.7490440888888888\n",
      "cross-test accuracy test\t 0.8479419333333333\n",
      "cross-test gini\t\t 0.7439737777777776\n"
     ]
    }
   ],
   "source": [
    "import xgboost as xgb\n",
    "import numpy as np\n",
    "\n",
    "dtrain = xgb.DMatrix(X, Y)\n",
    "param = {'booster': 'gbtree', 'objective': 'binary:logistic', 'scale_pos_weight': 1.6, 'max_depth': 3, 'eta': 0.1,\n",
    "         'gamma': 1}\n",
    "num_round = 9\n",
    "res = xgb.cv(param, dtrain, num_round, metrics=['error', 'auc'], nfold=5)\n",
    "print(\"cross-train accuracy train\\t\", 1 - np.mean(res['train-error-mean']))\n",
    "print(\"cross-train gini\\t\", np.mean(res['train-auc-mean'] * 2 - 1))\n",
    "print(\"cross-test accuracy test\\t\", 1 - np.mean(res['test-error-mean']))\n",
    "print(\"cross-test gini\\t\\t\", np.mean(res['test-auc-mean'] * 2 - 1))"
   ]
  },
  {
   "cell_type": "markdown",
   "metadata": {},
   "source": [
    "Как можно видеть, все модели показывают меньший результат по сравнению с XGBoost"
   ]
  },
  {
   "cell_type": "markdown",
   "metadata": {},
   "source": [
    "# XGBoost Автоматический подбор параметров"
   ]
  },
  {
   "cell_type": "markdown",
   "metadata": {},
   "source": [
    "## 1. Решение СПР"
   ]
  },
  {
   "cell_type": "code",
   "execution_count": 7,
   "metadata": {},
   "outputs": [
    {
     "name": "stdout",
     "output_type": "stream",
     "text": [
      "XGBClassifier(base_score=0.5, booster=None, colsample_bylevel=1,\n",
      "              colsample_bynode=1, colsample_bytree=1, gamma=1, gpu_id=-1,\n",
      "              importance_type='gain', interaction_constraints=None,\n",
      "              learning_rate=0.9, max_delta_step=0, max_depth=20,\n",
      "              min_child_weight=1, missing=nan, monotone_constraints=None,\n",
      "              n_estimators=9, n_jobs=0, num_parallel_tree=1,\n",
      "              objective='binary:logistic', random_state=0, reg_alpha=0,\n",
      "              reg_lambda=1, scale_pos_weight=32, subsample=1, tree_method=None,\n",
      "              validate_parameters=False, verbosity=None)\n",
      "Accuracy: 0.782625\n"
     ]
    }
   ],
   "source": [
    "import numpy as np\n",
    "from xgboost import XGBClassifier\n",
    "from sklearn.model_selection import GridSearchCV, RandomizedSearchCV\n",
    "X = df.drop(['system'], 1)\n",
    "X = X.drop(['under'], 1)\n",
    "Y = df['system']\n",
    "params = {'objective': ['binary:logistic'], 'n_estimators': list(range(3, 20)), 'scale_pos_weight': [32],\n",
    "          'learning_rate': list(np.arange(0, 1, 0.1)), 'max_depth': list(range(2, 21)), 'gamma': [0, 0.5, 1, 1.2, 1.5, 2]}\n",
    "clf = RandomizedSearchCV(XGBClassifier(), params, cv=kfold, n_iter=50) # pre_dispatch = 1,\n",
    "results = clf.fit(X, Y)\n",
    "print(results.best_estimator_)\n",
    "results = cross_val_score(results.best_estimator_, X, Y, cv=kfold)\n",
    "print(\"Accuracy: %f\" % results.mean())"
   ]
  },
  {
   "cell_type": "markdown",
   "metadata": {},
   "source": [
    "## 2. Решение андерайтора:"
   ]
  },
  {
   "cell_type": "code",
   "execution_count": 6,
   "metadata": {},
   "outputs": [
    {
     "name": "stdout",
     "output_type": "stream",
     "text": [
      "XGBClassifier(base_score=0.5, booster=None, colsample_bylevel=1,\n",
      "              colsample_bynode=1, colsample_bytree=1, gamma=0, gpu_id=-1,\n",
      "              importance_type='gain', interaction_constraints=None,\n",
      "              learning_rate=0.7000000000000001, max_delta_step=0, max_depth=18,\n",
      "              min_child_weight=1, missing=nan, monotone_constraints=None,\n",
      "              n_estimators=13, n_jobs=0, num_parallel_tree=1,\n",
      "              objective='binary:logistic', random_state=0, reg_alpha=0,\n",
      "              reg_lambda=1, scale_pos_weight=45, subsample=1, tree_method=None,\n",
      "              validate_parameters=False, verbosity=None)\n",
      "Accuracy: 0.985411\n"
     ]
    }
   ],
   "source": [
    "Y = df['under']\n",
    "params = {'objective': ['binary:logistic'], 'n_estimators': list(range(3, 20)), 'scale_pos_weight': [45],\n",
    "          'learning_rate': list(np.arange(0, 1, 0.1)), 'max_depth': list(range(2, 21)), 'gamma': [0, 0.5, 1, 1.2, 1.5, 2]}\n",
    "kfold = StratifiedKFold(n_splits=5)\n",
    "clf = RandomizedSearchCV(XGBClassifier(), params, cv=kfold, n_iter=30)\n",
    "results = clf.fit(X, Y)\n",
    "print(results.best_estimator_)\n",
    "results = cross_val_score(results.best_estimator_, X, Y, cv=kfold)\n",
    "print(\"Accuracy: %f\" % results.mean())"
   ]
  },
  {
   "cell_type": "code",
   "execution_count": null,
   "metadata": {},
   "outputs": [],
   "source": []
  }
 ],
 "metadata": {
  "kernelspec": {
   "display_name": "Python 3",
   "language": "python",
   "name": "python3"
  },
  "language_info": {
   "codemirror_mode": {
    "name": "ipython",
    "version": 3
   },
   "file_extension": ".py",
   "mimetype": "text/x-python",
   "name": "python",
   "nbconvert_exporter": "python",
   "pygments_lexer": "ipython3",
   "version": "3.8.10"
  }
 },
 "nbformat": 4,
 "nbformat_minor": 4
}
