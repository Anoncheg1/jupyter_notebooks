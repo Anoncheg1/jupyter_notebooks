{
 "cells": [
  {
   "cell_type": "code",
   "execution_count": 15,
   "metadata": {},
   "outputs": [],
   "source": [
    "import pandas\n",
    "import ipywidgets as widgets\n",
    "\n",
    "df: pandas.DataFrame = pandas.read_pickle('/mnt/hit4/hit4user/PycharmProjects/mysql_connector/c')\n",
    "# new column\n",
    "\n",
    "X = df.drop(['system'], 1)\n",
    "X = X.drop(['under'], 1)\n",
    "Y = df[['system', 'under']]"
   ]
  },
  {
   "cell_type": "code",
   "execution_count": 18,
   "metadata": {},
   "outputs": [
    {
     "data": {
      "text/plain": [
       "Index(['car_cost_requested', 'charge', 'pension_certificate',\n",
       "       'documents_count', 'issue_year', 'experience', 'term',\n",
       "       'documents_clientPhoto', 'initial_fee_percent', 'owns_count',\n",
       "       ...\n",
       "       'sale_point_city_Москва', 'sale_point_city_Мытищи',\n",
       "       'sale_point_city_Петрозаводск', 'sale_point_city_Самара',\n",
       "       'sale_point_city_Химки', 'Реестр банкротств_FAIL',\n",
       "       'Реестр банкротств_OK', 'Проверка ФССП_FAIL', 'Проверка ФССП_OK',\n",
       "       'budget_ratio'],\n",
       "      dtype='object', length=210)"
      ]
     },
     "execution_count": 18,
     "metadata": {},
     "output_type": "execute_result"
    }
   ],
   "source": [
    "X.columns"
   ]
  },
  {
   "cell_type": "code",
   "execution_count": 14,
   "metadata": {},
   "outputs": [
    {
     "data": {
      "application/vnd.jupyter.widget-view+json": {
       "model_id": "4d795b5a29504fd79ace50d5f75c35da",
       "version_major": 2,
       "version_minor": 0
      },
      "text/plain": [
       "interactive(children=(DatePicker(value=datetime.date(2019, 7, 9), description='Pick a Date'), Output()), _dom_…"
      ]
     },
     "metadata": {},
     "output_type": "display_data"
    }
   ],
   "source": [
    "\n",
    "\n",
    "import datetime\n",
    "\n",
    "def f(x):\n",
    "    return x\n",
    "\n",
    "\n",
    "from ipywidgets import interact, interactive, fixed, interact_manual\n",
    "\n",
    "\n",
    "data_pick = widgets.DatePicker(\n",
    "    description='Pick a Date',\n",
    "    disabled=False\n",
    ")\n",
    "data_pick.value =  datetime.date(2019, 7, 9)\n",
    "\n",
    "interact(f, x=data_pick);"
   ]
  },
  {
   "cell_type": "code",
   "execution_count": null,
   "metadata": {},
   "outputs": [],
   "source": [
    "\n"
   ]
  }
 ],
 "metadata": {
  "kernelspec": {
   "display_name": "Python 3",
   "language": "python",
   "name": "python3"
  },
  "language_info": {
   "codemirror_mode": {
    "name": "ipython",
    "version": 3
   },
   "file_extension": ".py",
   "mimetype": "text/x-python",
   "name": "python",
   "nbconvert_exporter": "python",
   "pygments_lexer": "ipython3",
   "version": "3.8.5"
  }
 },
 "nbformat": 4,
 "nbformat_minor": 4
}
