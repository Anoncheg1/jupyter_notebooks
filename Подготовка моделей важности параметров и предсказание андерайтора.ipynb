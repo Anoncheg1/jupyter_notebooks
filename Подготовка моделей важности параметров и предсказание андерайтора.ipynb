{
 "cells": [
  {
   "cell_type": "code",
   "execution_count": 411,
   "metadata": {},
   "outputs": [
    {
     "name": "stdout",
     "output_type": "stream",
     "text": [
      "(11020, 200)\n",
      "(11020, 309)\n",
      "(11020, 2)\n"
     ]
    }
   ],
   "source": [
    "import pandas as pd\n",
    "import numpy as np\n",
    "from sklearn.preprocessing import StandardScaler, scale\n",
    "from sklearn.model_selection import StratifiedKFold, KFold, StratifiedShuffleSplit\n",
    "from sklearn.model_selection import cross_val_score\n",
    "from sklearn.model_selection import GridSearchCV\n",
    "import sklearn\n",
    "import xgboost as xgb\n",
    "from sklearn.ensemble import RandomForestClassifier\n",
    "import os\n",
    "\n",
    "def read_dfs(files: list) -> pd.DataFrame:\n",
    "    df_res = None\n",
    "    for x in files:\n",
    "        df: pd.DataFrame = pd.read_pickle(x)\n",
    "        if df_res is None:\n",
    "            df_res = df\n",
    "        else:\n",
    "            df_res = pd.concat([df_res, df], axis=0, sort=False, ignore_index=True)\n",
    "    return df_res\n",
    "\n",
    "\n",
    "mypath = '/mnt/hit4/hit4user/PycharmProjects/mysql_connector'\n",
    "X_files = sorted([os.path.join(mypath, f) for f in os.listdir(mypath) if 'final_features_X' in f])\n",
    "Y_files = sorted([os.path.join(mypath, f) for f in os.listdir(mypath) if 'final_features_Y' in f])\n",
    "X = read_dfs(X_files)\n",
    "Y = read_dfs(Y_files)\n",
    "print(X.shape)\n",
    "for c in X:\n",
    "    if 'deal_created_date' in c:\n",
    "        X.drop(c, axis=1, inplace=True)\n",
    "X = pd.get_dummies(X, dummy_na=True)  # categorical\n",
    "X.fillna(0, inplace=True)  # numerical if NaN > 50%\n",
    "print(X.shape)\n",
    "print(Y.shape)\n",
    "Y['under'].replace(2,0, inplace=True)"
   ]
  },
  {
   "cell_type": "markdown",
   "metadata": {},
   "source": [
    "## Статистика"
   ]
  },
  {
   "cell_type": "code",
   "execution_count": 412,
   "metadata": {
    "scrolled": true
   },
   "outputs": [
    {
     "name": "stdout",
     "output_type": "stream",
     "text": [
      "X строк, столбцов (11020, 309)\n",
      "Y (11020, 2)\n",
      "system:\n",
      "Ys OK 4077\n",
      "Ys FAIL 6943\n",
      "Ys FAIL/OK 1.70\n",
      "\n",
      "under:\n",
      "Yu OK 435\n",
      "Yu FAIL 10585\n",
      "Yu FAIL/OK 24.33\n",
      "\n",
      "Nan exist? False False\n"
     ]
    }
   ],
   "source": [
    "print(\"X строк, столбцов\", X.shape)\n",
    "print(\"Y\", Y.shape)\n",
    "print(\"system:\")\n",
    "p = len(Y['system'][Y['system'] == 1])\n",
    "n = len(Y['system'][Y['system'] == 0])\n",
    "print(\"Ys OK\", p)\n",
    "print(\"Ys FAIL\", n)\n",
    "print(\"Ys FAIL/OK\", \"%.2f\" % (n / p))\n",
    "print()\n",
    "print(\"under:\")\n",
    "p = len(Y['under'][Y['under'] == 1])\n",
    "n = len(Y['under'][Y['under'] == 0])\n",
    "print(\"Yu OK\", p)\n",
    "print(\"Yu FAIL\", n)\n",
    "print(\"Yu FAIL/OK\", \"%.2f\" % (n / p))\n",
    "print()\n",
    "print(\"Nan exist?\", X.isna().values.any(), X.isnull().values.any())"
   ]
  },
  {
   "cell_type": "markdown",
   "metadata": {},
   "source": [
    "# XGBoost ручной подбор параметров (СПР)"
   ]
  },
  {
   "cell_type": "markdown",
   "metadata": {},
   "source": [
    "### СПР"
   ]
  },
  {
   "cell_type": "code",
   "execution_count": 425,
   "metadata": {},
   "outputs": [
    {
     "name": "stdout",
     "output_type": "stream",
     "text": [
      "cross-train accuracy train\t 0.855831955\n",
      "cross-train gini\t\t 0.86441815\n",
      "cross-test accuracy test\t 0.853890705\n",
      "cross-test gini\t\t\t 0.85551821\n"
     ]
    }
   ],
   "source": [
    "dtrain = xgb.DMatrix(X, Y['system'])\n",
    "param = {'booster': 'gbtree', 'tree_method': 'gpu_hist', 'objective': 'binary:logistic', \n",
    "         'scale_pos_weight': 1.6, 'max_depth': 3, 'eta': 0.2,\n",
    "         'gamma': 1}\n",
    "num_round = 40\n",
    "res = xgb.cv(param, dtrain, num_round, metrics=['error', 'auc'], nfold=5)\n",
    "print(\"cross-train accuracy train\\t\", 1 - np.mean(res['train-error-mean']))\n",
    "print(\"cross-train gini\\t\\t\", np.mean(res['train-auc-mean'] * 2 - 1))\n",
    "print(\"cross-test accuracy test\\t\", 1 - np.mean(res['test-error-mean']))\n",
    "print(\"cross-test gini\\t\\t\\t\", np.mean(res['test-auc-mean'] * 2 - 1))"
   ]
  },
  {
   "cell_type": "markdown",
   "metadata": {},
   "source": [
    "### Андерайтор"
   ]
  },
  {
   "cell_type": "code",
   "execution_count": 453,
   "metadata": {
    "scrolled": true
   },
   "outputs": [
    {
     "name": "stdout",
     "output_type": "stream",
     "text": [
      "cross-train accuracy train\t 0.9996696361111111\n",
      "cross-train gini\t\t 0.9999120388888888\n",
      "cross-test accuracy test\t 0.9791594194444444\n",
      "cross-test gini\t\t\t 0.979995538888889\n"
     ]
    }
   ],
   "source": [
    "dtrain = xgb.DMatrix(X, Y['under'])\n",
    "param = {'booster': 'gbtree', 'tree_method': 'gpu_hist', 'objective': 'binary:logistic', \n",
    "         'scale_pos_weight': 8, 'max_depth': 18, 'eta': 1,\n",
    "         'gamma': 0.7}\n",
    "num_round = 60\n",
    "res = xgb.cv(param, dtrain, num_round, metrics=['error', 'auc'], nfold=6)\n",
    "print(\"cross-train accuracy train\\t\", 1 - np.mean(res['train-error-mean']))\n",
    "print(\"cross-train gini\\t\\t\", np.mean(res['train-auc-mean'] * 2 - 1))\n",
    "print(\"cross-test accuracy test\\t\", 1 - np.mean(res['test-error-mean']))\n",
    "print(\"cross-test gini\\t\\t\\t\", np.mean(res['test-auc-mean'] * 2 - 1))"
   ]
  },
  {
   "cell_type": "markdown",
   "metadata": {},
   "source": [
    "## Модель предсказания решения СПР с минимальным числом ложных отклонений заявки (обученная на решениях андерайтора)"
   ]
  },
  {
   "cell_type": "code",
   "execution_count": 392,
   "metadata": {},
   "outputs": [],
   "source": [
    "# Кросс-валидация для уменьшения FalseNegative\n",
    "res1 = []\n",
    "res2 = []\n",
    "res3 = []\n",
    "res4 = []\n",
    "acc1 = []\n",
    "gini1 = []\n",
    "\n",
    "res21 = []\n",
    "res22 = []\n",
    "res23 = []\n",
    "res24 = []\n",
    "\n",
    "acc2 = []\n",
    "gini2 = []\n",
    "def run(param, num_round):\n",
    "    for train_index, test_index in skf.split(X, Y):\n",
    "        X_train, X_test = X.iloc[train_index, :], X.iloc[test_index, :]\n",
    "        Y_train, Y_test = Y.iloc[train_index, :], Y.iloc[test_index, :]\n",
    "\n",
    "        # Обучаем на фолде отклоненных андерайтером\n",
    "        dtrain = xgb.DMatrix(X_train, Y_train['under']) # under\n",
    "        bst: Booster = xgb.train(param, dtrain, num_round)\n",
    "\n",
    "        # Тестируем на отклоненных системой\n",
    "        dtest = xgb.DMatrix(X_test, Y_test['system']) # system\n",
    "        ypred2: np.array = bst.predict(dtest)\n",
    "\n",
    "        cn = []\n",
    "        cp = []\n",
    "        for i, x in enumerate(Y_test['system']):\n",
    "            if x == 0:\n",
    "                cn.append(ypred2[i])\n",
    "            if x == 1:\n",
    "                cp.append(ypred2[i])\n",
    "        res21.append((np.round(cn) == 0).mean())\n",
    "        res22.append((np.round(cn) == 1).mean())\n",
    "        res23.append((np.round(cp) == 1).mean())\n",
    "        res24.append((np.round(cp) == 0).mean())\n",
    "        acc1.append((np.round(ypred2) == Y_test['system']).mean())\n",
    "        auc = sklearn.metrics.roc_auc_score(Y_test['system'], ypred2)\n",
    "        gini1.append(2 * auc - 1)\n",
    "\n",
    "\n",
    "        # тестируем на отклоненных андерайтором\n",
    "        dtest = xgb.DMatrix(X_test, Y_test['under'])\n",
    "        ypred2: np.array = bst.predict(dtest)\n",
    "\n",
    "        cn = []\n",
    "        cp = []\n",
    "        for i, x in enumerate(Y_test['under']):\n",
    "            if x == 0:\n",
    "                cn.append(ypred2[i])\n",
    "            if x == 1:\n",
    "                cp.append(ypred2[i])\n",
    "        res1.append((np.round(cn) == 0).mean())\n",
    "        res2.append((np.round(cn) == 1).mean())\n",
    "        res3.append((np.round(cp) == 1).mean())\n",
    "        res4.append((np.round(cp) == 0).mean())\n",
    "        acc2.append((np.round(ypred2) == Y_test['under']).mean())\n",
    "        auc = sklearn.metrics.roc_auc_score(Y_test['under'], ypred2)\n",
    "        gini2.append(2 * auc - 1)\n",
    "\n",
    "    print(\"Результаты кросс-валидации тестирования на отклоненных системой\")\n",
    "    print(\"Точность:\", np.array(acc1).mean())\n",
    "    print(\"Коэффициент gini:\", np.array(gini1).mean())\n",
    "    print(\"TrueNegative/Negative для 0:\\t%f\" % np.array(res21).mean())\n",
    "    print(\"FalsePositive/Negative для 0:\\t%f\" % np.array(res22).mean())\n",
    "    print(\"TruePositive/Positive для 1:\\t%f\" % np.array(res23).mean())\n",
    "    print(\"FalseNegative/Positive для 1:\\t%f\" % np.array(res24).mean(), \"\\n\")\n",
    "\n",
    "    print(\"Результаты кросс-валидации тестирования на отклоненных андерайтором\")\n",
    "    print(\"Точность:\", np.array(acc2).mean())\n",
    "    print(\"Коэффициент gini:\", np.array(gini2).mean())\n",
    "    print(\"TrueNegative/Negative для 0:\\t%f\" % np.array(res1).mean())\n",
    "    print(\"FalsePositive/Negative для 0:\\t%f\" % np.array(res2).mean())\n",
    "    print(\"TruePositive/Positive для 1:\\t%f\" % np.array(res3).mean())\n",
    "    print(\"* FalseNegative/Positive для 1:\\t%f\" % np.array(res4).mean())"
   ]
  },
  {
   "cell_type": "code",
   "execution_count": 393,
   "metadata": {},
   "outputs": [
    {
     "name": "stdout",
     "output_type": "stream",
     "text": [
      "\n",
      "StratifiedShuffleSplit\n",
      "\n",
      "Результаты кросс-валидации тестирования на отклоненных системой\n",
      "Точность: 0.7635208711433756\n",
      "Коэффициент gini: 0.582014606995536\n",
      "TrueNegative/Negative для 0:\t0.990202\n",
      "FalsePositive/Negative для 0:\t0.009798\n",
      "TruePositive/Positive для 1:\t0.377941\n",
      "FalseNegative/Positive для 1:\t0.622059 \n",
      "\n",
      "Результаты кросс-валидации тестирования на отклоненных андерайтором\n",
      "Точность: 0.8931034482758621\n",
      "Коэффициент gini: 0.959890015466575\n",
      "TrueNegative/Negative для 0:\t0.889036\n",
      "FalsePositive/Negative для 0:\t0.110964\n",
      "TruePositive/Positive для 1:\t0.990909\n",
      "* FalseNegative/Positive для 1:\t0.009091\n"
     ]
    }
   ],
   "source": [
    "param = {'booster': 'gbtree', 'tree_method': 'gpu_hist', 'objective': 'binary:logistic', \n",
    "         'scale_pos_weight': 90, 'max_depth': 3, 'eta': 0.1,\n",
    "         'gamma': 0.3}\n",
    "num_round = 3\n",
    "# print(\"KFold\\n\")\n",
    "# skf = KFold(n_splits=5)\n",
    "# run()\n",
    "print(\"\\nStratifiedShuffleSplit\\n\")\n",
    "skf = StratifiedShuffleSplit(n_splits=5)\n",
    "run(param, num_round)"
   ]
  },
  {
   "cell_type": "markdown",
   "metadata": {},
   "source": [
    "# Важность параметров (СПР)"
   ]
  },
  {
   "cell_type": "markdown",
   "metadata": {},
   "source": [
    "### 1) Подбор парамтеров"
   ]
  },
  {
   "cell_type": "code",
   "execution_count": 454,
   "metadata": {},
   "outputs": [
    {
     "name": "stdout",
     "output_type": "stream",
     "text": [
      "Accuracy: 0.978844 (+/- 0.03)\n"
     ]
    }
   ],
   "source": [
    "# ручной подбор параметров\n",
    "kfold = StratifiedKFold(n_splits=5)\n",
    "\n",
    "max_depth = 12\n",
    "n_estimators = 25\n",
    "max_leaf_nodes = 14\n",
    "min_samples_split = 2\n",
    "res = []\n",
    "ci = []\n",
    "for i in range(7):\n",
    "    rf = RandomForestClassifier(random_state=i, max_depth=max_depth, n_estimators=n_estimators,\n",
    "                                max_leaf_nodes=max_leaf_nodes, min_samples_split=min_samples_split)\n",
    "    results = cross_val_score(rf, X, Y['under'], cv=kfold)\n",
    "    res.append(results.mean())\n",
    "    ci.append(results.std() * 2)\n",
    "print(\"Accuracy: %f (+/- %0.2f)\" % (sum(res)/ len(res), sum(ci)/ len(ci)))"
   ]
  },
  {
   "cell_type": "markdown",
   "metadata": {},
   "source": [
    "### 2)"
   ]
  },
  {
   "cell_type": "code",
   "execution_count": 409,
   "metadata": {},
   "outputs": [
    {
     "name": "stdout",
     "output_type": "stream",
     "text": [
      "Feature ranking:\n",
      "(309,)\n",
      "1. spec_cot_ids.COUNT(autocredit_document) (0.140956)\n",
      "2. spec_cot_ids.NUM_UNIQUE(autocredit_document.code) (0.128709)\n",
      "3. scoring.Проверка объема двигателя транспортного средства на допустимое значение_OK (0.082434)\n",
      "4. scoring.Соответствие категории ТС условиям программы кредитования_OK (0.077294)\n",
      "5. scoring.Соответствие категории ТС условиям программы кредитования_NoneMy (0.075912)\n",
      "6. scoring.Проверка объема двигателя транспортного средства на допустимое значение_NoneMy (0.069963)\n",
      "7. scoring.Проверка, является ли ТС в залоге, по данным ФНП_NoneMy (0.031887)\n",
      "8. client_ids.SUM(c_p_budget.`sum_confirmed`) (0.031881)\n",
      "9. client_ids.NUM_UNIQUE(c_p_budget.`kind`) (0.026422)\n",
      "10. client_ids.NUM_UNIQUE(c_p_budget.`type`) (0.026252)\n",
      "11. scoring.Проверка, является ли ТС в залоге, по данным ФНП_OK (0.023258)\n",
      "12. client_ids.STD(c_p_budget.`sum_confirmed`) (0.020225)\n",
      "13. client_ids.COUNT(c_p_budget) (0.019120)\n",
      "14. a_car_info.issue_year (0.017871)\n",
      "15. client_ids.MAX(c_p_budget.`sum_confirmed`) (0.016590)\n",
      "16. client_ids.MEAN(c_p_budget.`sum_confirmed`) (0.013884)\n",
      "17. scoring.Возраст транспортного средства_NoneMy (0.012933)\n",
      "18. a_car_info.version (0.012723)\n",
      "19. scoring.Возраст транспортного средства_OK (0.012366)\n",
      "20. spec_cot_ids.MODE(autocredit_document.code)_clientPassport (0.009507)\n",
      "21. spec_cot_ids.MODE(autocredit_document.code)_additionalFile (0.007909)\n",
      "22. client_ids.SKEW(c_p_budget.`sum_confirmed`) (0.007389)\n",
      "23. client_ids.MODE(c_p_budget.`type`)_loans_month (0.005574)\n",
      "24. client_ids.MODE(c_p_budget.`type`)_income (0.004030)\n",
      "25. c_person.YEAR(birth_date) (0.003702)\n",
      "26. c_person.MONTH(birth_date) (0.003517)\n",
      "27. scoring.anket_score (0.003371)\n",
      "28. client_ids.MODE(c_p_budget.`type`)_loan (0.003202)\n",
      "29. scoring.Начилие действующих кредитов у клиента_OK (0.003157)\n",
      "30. autocredit_deal.car_cost_requested / payment_monthly (0.002769)\n",
      "31. client_ids.MODE(c_p_budget.`kind`)_loan (0.002725)\n",
      "32. autocredit_deal.payment_monthly / car_cost_requested (0.002601)\n",
      "33. autocredit_deal.car_cost_requested / cost_requested (0.002591)\n",
      "34. c_person.birth_date (0.002547)\n",
      "35. client_ids.MIN(c_p_budget.`sum_confirmed`) (0.002504)\n",
      "36. autocredit_deal.initial_fee / payment_monthly (0.002367)\n",
      "37. client_ids.MODE(c_p_budget.`kind`)_charge (0.002234)\n",
      "38. autocredit_deal.initial_fee / term (0.002124)\n",
      "39. c_person.social_status_working (0.002091)\n",
      "40. deal_ids.MAX(a_opti.cost) (0.002078)\n",
      "41. autocredit_deal.initial_fee / cost_requested (0.002059)\n",
      "42. autocredit_deal.initial_fee / car_cost_requested (0.002046)\n",
      "43. autocredit_deal.cost_requested / car_cost_requested (0.002040)\n",
      "44. deal_ids.MIN(a_opti.cost) (0.001948)\n",
      "45. autocredit_deal.cost_requested / payment_monthly (0.001938)\n",
      "46. scoring.Причастность организации работодателя к экстремистской деятельности или терроризму_OK (0.001919)\n",
      "47. autocredit_deal.initial_fee (0.001901)\n",
      "48. deal_ids.MEAN(a_opti.cost) (0.001891)\n",
      "49. client_ids.MODE(c_p_budget.`type`)_NoneMy (0.001804)\n",
      "50. client_ids.MODE(c_p_budget.`kind`)_NoneMy (0.001746)\n",
      "51. autocredit_deal.initial_fee_percent (0.001683)\n",
      "52. partner_point.partner_auto.MODE(partner_point.sale_point_city)_Москва (0.001659)\n",
      "53. autocredit_deal.payment_monthly / cost_requested (0.001652)\n",
      "54. partner_point.partner_auto.partner (0.001638)\n",
      "55. autocredit_deal.initial_fee_percent / payment_monthly (0.001489)\n",
      "56. autocredit_deal.initial_fee_percent / term (0.001440)\n",
      "57. c_person.WEEKDAY(birth_date) (0.001371)\n",
      "58. autocredit_deal.car_cost_requested (0.001370)\n",
      "59. autocredit_deal.cost_requested / initial_fee_percent (0.001192)\n",
      "60. partner_point.sale_point_city_Москва (0.001180)\n",
      "61. autocredit_deal.car_cost_requested / initial_fee_percent (0.001165)\n",
      "62. autocredit_deal.initial_fee_percent / car_cost_requested (0.001160)\n",
      "63. autocredit_deal.term / car_cost_requested (0.001082)\n",
      "64. autocredit_deal.cost_requested / initial_fee (0.001061)\n",
      "65. autocredit_deal.payment_monthly / initial_fee (0.001002)\n",
      "66. c_p_w_info.job_type_NoneMy (0.001000)\n",
      "67. autocredit_deal.initial_fee_percent / cost_requested (0.000982)\n",
      "68. autocredit_deal.cost_requested / term (0.000960)\n",
      "69. c_p_w_info.c_p_w_info_contact.MODE(c_p_w_info.job_type)_termless_contract (0.000957)\n",
      "70. autocredit_deal.car_cost_requested / term (0.000934)\n",
      "71. autocredit_deal.payment_monthly / initial_fee_percent (0.000917)\n",
      "72. c_person.education_highest (0.000914)\n",
      "73. autocredit_deal.term / initial_fee_percent (0.000909)\n",
      "74. autocredit_deal.term (0.000904)\n",
      "75. c_p_w_info.c_p_w_info_contact.MEAN(c_p_w_info.experience) (0.000891)\n",
      "76. autocredit_deal.term / payment_monthly (0.000867)\n",
      "77. c_p_w_info.job_status_NoneMy (0.000863)\n",
      "78. c_p_w_info.job_type_termless_contract (0.000859)\n",
      "79. autocredit_deal.initial_fee / initial_fee_percent (0.000857)\n",
      "80. autocredit_deal.term / initial_fee (0.000808)\n",
      "81. c_p_w_info.experience (0.000800)\n",
      "82. deal_ids.SUM(a_opti.cost) (0.000794)\n",
      "83. autocredit_deal.term / cost_requested (0.000787)\n",
      "84. autocredit_deal.initial_fee_percent / initial_fee (0.000773)\n",
      "85. autocredit_deal.payment_monthly / term (0.000772)\n",
      "86. autocredit_deal.cost_requested (0.000768)\n",
      "87. autocredit_deal.payment_monthly (0.000714)\n",
      "88. autocredit_deal.car_cost_requested / initial_fee (0.000708)\n",
      "89. a_car_info.`condition`_new (0.000704)\n",
      "90. scoring.Начилие действующих кредитов у клиента_APP_ERROR (0.000693)\n",
      "91. c_p_w_info.c_p_w_info_contact.SUM(c_p_w_info.experience) (0.000682)\n",
      "92. scoring.Допустимый возраст клиента_OK (0.000670)\n",
      "93. c_p_w_info.c_p_w_info_contact.MAX(c_p_w_info.experience) (0.000650)\n",
      "94. c_p_w_info.position (0.000618)\n",
      "95. c_p_w_info.c_p_w_info_contact.MIN(c_p_w_info.experience) (0.000568)\n",
      "96. scoring.Допустимый возраст клиента_FAIL (0.000547)\n",
      "97. partner_point.partner_auto.MODE(partner_point.sale_point_city)_null (0.000540)\n",
      "98. spec_cot_ids.MODE(autocredit_document.code)_applicationForAdvanceAcceptance (0.000532)\n",
      "99. scoring.Проверка объема двигателя транспортного средства на допустимое значение_FAIL (0.000488)\n",
      "100. c_person.education_NoneMy (0.000463)\n"
     ]
    }
   ],
   "source": [
    "importance_sum = np.zeros(X.shape[1], dtype=np.float)\n",
    "n = 100\n",
    "max_depth = np.linspace(7, 20, 100) # 12\n",
    "n_estimators = np.linspace(5, 40, 100) # 25\n",
    "max_leaf_nodes = np.linspace(8, 20, 100) # 14\n",
    "min_samples_split = 2\n",
    "\n",
    "for i in range(n):\n",
    "    depth = int(round(max_depth[i]))\n",
    "    n_est = int(round(n_estimators[i]))\n",
    "    max_l = int(round(max_leaf_nodes[i]))\n",
    "    \n",
    "    model = RandomForestClassifier(random_state=i, max_depth=depth, \n",
    "                                   n_estimators=n_est, max_leaf_nodes=max_l, \n",
    "                                   min_samples_split=2)\n",
    "    model.fit(X, Y['under'])\n",
    "    # FEATURE IMPORTANCE\n",
    "    importances = model.feature_importances_  # feature importance\n",
    "    importance_sum += importances\n",
    "\n",
    "indices = np.argsort(importance_sum)[::-1]  # sort indexes\n",
    "\n",
    "# Print the feature ranking\n",
    "print(\"Feature ranking:\")\n",
    "print(importance_sum.shape)\n",
    "\n",
    "for f in range(X.shape[1])[:100]: # первые 100\n",
    "    print(\"%d. %s (%f)\" % (f + 1, X.columns[indices[f]], importance_sum[indices[f]] / 100))\n"
   ]
  },
  {
   "cell_type": "code",
   "execution_count": 410,
   "metadata": {},
   "outputs": [
    {
     "name": "stdout",
     "output_type": "stream",
     "text": [
      "210. partner_point.sale_point_city_Мытищи (0.000002)\n",
      "211. deal_ids.STD(a_opti.cost) (0.000000)\n",
      "212. c_p_w_info.c_p_w_info_contact.SKEW(c_p_w_info.experience) (0.000000)\n",
      "213. c_p_w_info.c_p_w_info_contact.STD(c_p_w_info.experience) (0.000000)\n",
      "214. deal_ids.SKEW(a_opti.cost) (0.000000)\n",
      "215. partner_point.sale_point_city_nan (0.000000)\n",
      "216. c_p_w_info.c_p_w_info_contact.MODE(c_p_w_info.job_type)_nan (0.000000)\n",
      "217. a_car_info.`condition`_nan (0.000000)\n",
      "218. scoring.Проверка, является ли ТС в залоге, по данным ФНП_nan (0.000000)\n",
      "219. scoring.Соответствие размера суммы кредита условиям программы кредитования_OK (0.000000)\n",
      "220. scoring.Соответствие размера суммы кредита условиям программы кредитования_NoneMy (0.000000)\n",
      "221. scoring.Соответствие категории ТС условиям программы кредитования_nan (0.000000)\n",
      "222. scoring.Реестр банкротств_nan (0.000000)\n",
      "223. scoring.Реестр банкротств_NoneMy (0.000000)\n",
      "224. scoring.Регион регистрации/фактического проживания клиента_nan (0.000000)\n",
      "225. scoring.Регион регистрации/фактического проживания клиента_NoneMy (0.000000)\n",
      "226. scoring.Размер первоначального взноса_nan (0.000000)\n",
      "227. scoring.Размер первоначального взноса_NoneMy (0.000000)\n",
      "228. scoring.Проверка ФССП_nan (0.000000)\n",
      "229. scoring.Проверка на соответствие региона выдачи паспорта регионам присутствия банка_nan (0.000000)\n",
      "230. scoring.Проверка ФССП_NoneMy (0.000000)\n",
      "231. scoring.Проверка паспортов физических лиц_nan (0.000000)\n",
      "232. scoring.Проверка паспортов физических лиц_NoneMy (0.000000)\n",
      "233. scoring.Проверка организации-работодателя на наличие в списке ликвидированных_nan (0.000000)\n",
      "234. scoring.Проверка организации-работодателя на наличие в списке ликвидированных_NoneMy (0.000000)\n",
      "235. scoring.Проверка организации работодателя на наличие в списке ликвидированных_nan (0.000000)\n",
      "236. scoring.Проверка организации работодателя на наличие в списке ликвидированных_NoneMy (0.000000)\n",
      "237. scoring.Проверка объема двигателя транспортного средства на допустимое значение_nan (0.000000)\n",
      "238. scoring.Проверка недействительности паспорта_nan (0.000000)\n",
      "239. scoring.Соответствие размера суммы кредита условиям программы кредитования_nan (0.000000)\n",
      "240. scoring.Соответствие региона регистрации / фактического проживания клиента регионам присутствия банка_NoneMy (0.000000)\n",
      "241. scoring.Соответствие региона регистрации / фактического проживания клиента регионам присутствия банка_nan (0.000000)\n",
      "242. scoring.Соответствие срока кредита условиям программы кредитования_NoneMy (0.000000)\n",
      "243. c_p_w_info.c_p_w_info_contact.MODE(c_p_w_info.job_status)_nan (0.000000)\n",
      "244. partner_point.partner_auto.MODE(partner_point.sale_point_city)_nan (0.000000)\n",
      "245. spec_cot_ids.MODE(autocredit_document.code)_nan (0.000000)\n",
      "246. c_p_w_info.c_p_w_info_contact.type_nan (0.000000)\n",
      "247. client_ids.MODE(client_contact.type)_nan (0.000000)\n",
      "248. client_ids.MODE(client_contact.type)_email (0.000000)\n",
      "249. client_ids.MODE(c_p_ownership.type)_nan (0.000000)\n",
      "250. client_ids.MODE(c_p_ownership.kind)_nan (0.000000)\n",
      "251. client_ids.MODE(c_p_budget.`kind`)_nan (0.000000)\n",
      "252. client_ids.MODE(c_p_budget.`type`)_nan (0.000000)\n",
      "253. client_ids.MODE(c_p_budget.`type`)_alimony (0.000000)\n",
      "254. scoring.Сумма кредита_nan (0.000000)\n",
      "255. scoring.Сумма кредита_NoneMy (0.000000)\n",
      "256. scoring.Стаж работы на текущем месте работы_nan (0.000000)\n",
      "257. scoring.Стаж работы на текущем месте работы_NoneMy (0.000000)\n",
      "258. scoring.Срок кредита_nan (0.000000)\n",
      "259. scoring.Срок кредита_NoneMy (0.000000)\n",
      "260. scoring.Соответствие срока кредита условиям программы кредитования_nan (0.000000)\n",
      "261. scoring.Соответствие срока кредита условиям программы кредитования_OK (0.000000)\n",
      "262. scoring.Проверка недействительности паспорта_NoneMy (0.000000)\n",
      "263. scoring.Проверка клиента в банке данных исполнительных производств (ФССП)_nan (0.000000)\n",
      "264. a_car_info.production_nan (0.000000)\n",
      "265. scoring.AFS-проверка адреса регистрации клиента на наличие действующей просрочки_NoneMy (0.000000)\n",
      "266. scoring.Анкетный скоринг_nan (0.000000)\n",
      "267. scoring.Анкетный скоринг_NoneMy (0.000000)\n",
      "268. scoring.AFS-проверка фактического адреса клиента на наличие действующей просрочки_OK (0.000000)\n",
      "269. scoring.AFS-проверка фактического адреса клиента на наличие действующей просрочки_NoneMy (0.000000)\n",
      "270. scoring.AFS-проверка организации-работадателя на наличие клиентов с действующими просрочками_nan (0.000000)\n",
      "271. scoring.AFS-проверка организации-работадателя на наличие клиентов с действующими просрочками_OK (0.000000)\n",
      "272. scoring.AFS-проверка организации-работадателя на наличие клиентов с действующими просрочками_NoneMy (0.000000)\n",
      "273. scoring.AFS-проверка адреса регистрации клиента на наличие действующей просрочки_nan (0.000000)\n",
      "274. scoring.AFS-проверка адреса регистрации клиента на наличие действующей просрочки_OK (0.000000)\n",
      "275. autocredit_deal.documents_package_nan (0.000000)\n",
      "276. scoring.Проверка клиента в банке данных исполнительных производств (ФССП)_NoneMy (0.000000)\n",
      "277. c_p_w_info.job_type_nan (0.000000)\n",
      "278. c_p_w_info.job_status_nan (0.000000)\n",
      "279. c_person.citizenship_nan (0.000000)\n",
      "280. c_person.citizenship_РФ (0.000000)\n",
      "281. c_person.gender_nan (0.000000)\n",
      "282. c_person.marital_status_nan (0.000000)\n",
      "283. c_person.social_status_nan (0.000000)\n",
      "284. c_person.social_status_working_military_retried (0.000000)\n",
      "285. c_person.education_nan (0.000000)\n",
      "286. scoring.Внутренняя AFS проверка_nan (0.000000)\n",
      "287. scoring.Внутренняя анти-фрод проверка_NoneMy (0.000000)\n",
      "288. scoring.Внутренняя анти-фрод проверка_nan (0.000000)\n",
      "289. scoring.Возраст транспортного средства_nan (0.000000)\n",
      "290. scoring.Проверка даты выдачи паспорта физических лиц_nan (0.000000)\n",
      "291. scoring.Проверка даты выдачи паспорта физических лиц_OK (0.000000)\n",
      "292. scoring.Проверка даты выдачи паспорта физических лиц_NoneMy (0.000000)\n",
      "293. scoring.Причастность организации работодателя к экстремистской деятельности или терроризму_nan (0.000000)\n",
      "294. scoring.Причастность к экстремистской деятельности или терроризму_nan (0.000000)\n",
      "295. scoring.Причастность к экстремистской деятельности или терроризму_NoneMy (0.000000)\n",
      "296. scoring.Объем двигателя транспортного средства_nan (0.000000)\n",
      "297. scoring.Объем двигателя транспортного средства_NoneMy (0.000000)\n",
      "298. scoring.Начилие действующих кредитов у клиента_nan (0.000000)\n",
      "299. scoring.Начилие действующих кредитов у клиента_NoneMy (0.000000)\n",
      "300. scoring.Начилие действующих кредитов у клиента_FAIL (0.000000)\n",
      "301. scoring.Наличие исков о намерении подать на банкротство / признании банкротом_nan (0.000000)\n",
      "302. scoring.Наличие исков о намерении подать на банкротство / признании банкротом_NoneMy (0.000000)\n",
      "303. scoring.Код подразделения УФМС России, оформившего паспорт клиента_nan (0.000000)\n",
      "304. scoring.Код подразделения УФМС России, оформившего паспорт клиента_NoneMy (0.000000)\n",
      "305. scoring.Категория транспортного средства_nan (0.000000)\n",
      "306. scoring.Категория транспортного средства_NoneMy (0.000000)\n",
      "307. scoring.Допустимый возраст клиента_nan (0.000000)\n",
      "308. scoring.Допустимый возраст клиента_NoneMy (0.000000)\n",
      "309. scoring.AFS-проверка фактического адреса клиента на наличие действующей просрочки_nan (0.000000)\n"
     ]
    }
   ],
   "source": [
    "for f in range(X.shape[1])[-100:]: # последние 100\n",
    "    print(\"%d. %s (%f)\" % (f + 1, X.columns[indices[f]], importance_sum[indices[f]] / 100))"
   ]
  },
  {
   "cell_type": "code",
   "execution_count": null,
   "metadata": {},
   "outputs": [],
   "source": []
  }
 ],
 "metadata": {
  "kernelspec": {
   "display_name": "Python 3",
   "language": "python",
   "name": "python3"
  },
  "language_info": {
   "codemirror_mode": {
    "name": "ipython",
    "version": 3
   },
   "file_extension": ".py",
   "mimetype": "text/x-python",
   "name": "python",
   "nbconvert_exporter": "python",
   "pygments_lexer": "ipython3",
   "version": "3.8.5"
  }
 },
 "nbformat": 4,
 "nbformat_minor": 4
}
