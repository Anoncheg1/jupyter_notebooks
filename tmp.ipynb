{
 "cells": [
  {
   "cell_type": "markdown",
   "metadata": {},
   "source": [
    "# Отклонение системой\n",
    "Обучим модель на всех данных и покажем, точность для новых и поддержанных автомобилей."
   ]
  },
  {
   "cell_type": "code",
   "execution_count": 2,
   "metadata": {},
   "outputs": [
    {
     "name": "stdout",
     "output_type": "stream",
     "text": [
      "X строк, столбцов (12538, 10233)\n",
      "Y (12538,)\n",
      "Y OK system: 5430\n",
      "Y FAIL system: 7108\n",
      "FAIL/OK system: 1.31\n",
      "Y OK under: 444\n",
      "Y FAIL under: 3061\n",
      "FAIL/OK under: 6.89\n",
      "FAIL/OK under: 6.89\n",
      "Андерайтер положительных: 444\n",
      "NaN exist? True\n"
     ]
    }
   ],
   "source": [
    "import xgboost as xgb\n",
    "from xgboost import Booster\n",
    "import numpy as np\n",
    "import matplotlib\n",
    "import pandas as pd\n",
    "import sklearn\n",
    "import matplotlib.pyplot as plt\n",
    "\n",
    "df0: pd.DataFrame = pd.read_pickle('/mnt/hit4/hit4user/PycharmProjects/mysql_connector/final_features.pickle')\n",
    "\n",
    "df = df0\n",
    "X = df.drop(['system'], 1)\n",
    "X = X.drop(['under'], 1)\n",
    "Y = df['system']\n",
    "print(\"X строк, столбцов\", X.shape)\n",
    "print(\"Y\", Y.shape)\n",
    "p = len(Y[Y == 1])\n",
    "n = len(Y[Y == 0])\n",
    "print(\"Y OK system:\", p)\n",
    "print(\"Y FAIL system:\", n)\n",
    "print(\"FAIL/OK system:\", \"%.2f\" % (n / p))\n",
    "\n",
    "Y = df['under']\n",
    "p = len(Y[Y == 1])\n",
    "n = len(Y[Y == 0])\n",
    "print(\"Y OK under:\", p)\n",
    "print(\"Y FAIL under:\", n)\n",
    "print(\"FAIL/OK under:\", \"%.2f\" % (n / p))\n",
    "print(\"FAIL/OK under:\", \"%.2f\" % (n / p))\n",
    "print(\"Андерайтер положительных:\", len(df0[df0['under'] == 1]))\n",
    "print(\"NaN exist?\", df0.isnull().values.any())\n",
    "Y = df['system']"
   ]
  },
  {
   "cell_type": "code",
   "execution_count": 5,
   "metadata": {},
   "outputs": [
    {
     "name": "stdout",
     "output_type": "stream",
     "text": [
      "cross-train accuracy train\t 0.8571121333333334\n",
      "cross-train gini\t 0.8502689777777778\n",
      "cross-test accuracy test\t 0.8548776666666666\n",
      "cross-test gini\t\t 0.8485516444444444\n"
     ]
    }
   ],
   "source": [
    "dtrain = xgb.DMatrix(X, Y)\n",
    "param = {'booster': 'gbtree', 'objective': 'binary:logistic', 'scale_pos_weight': 1.6, 'max_depth': 3, 'eta': 0.1,\n",
    "         'gamma': 1}\n",
    "num_round = 9\n",
    "res = xgb.cv(param, dtrain, num_round, metrics=['error', 'auc'], nfold=5)\n",
    "print(\"cross-train accuracy train\\t\", 1 - np.mean(res['train-error-mean']))\n",
    "print(\"cross-train gini\\t\", np.mean(res['train-auc-mean'] * 2 - 1))\n",
    "print(\"cross-test accuracy test\\t\", 1 - np.mean(res['test-error-mean']))\n",
    "print(\"cross-test gini\\t\\t\", np.mean(res['test-auc-mean'] * 2 - 1))"
   ]
  },
  {
   "cell_type": "markdown",
   "metadata": {},
   "source": [
    "# Кросс-валидация с ручным подбором параметров. На всех данных. Для отклонения системой."
   ]
  },
  {
   "cell_type": "code",
   "execution_count": 6,
   "metadata": {},
   "outputs": [
    {
     "name": "stdout",
     "output_type": "stream",
     "text": [
      "cross-train accuracy train 0.8579021\n",
      "cross-train gini 0.8429803999999999\n",
      "cross-test accuracy test 0.8555183\n",
      "cross-test gini 0.8408134000000003\n"
     ]
    }
   ],
   "source": [
    "dtrain = xgb.DMatrix(X, Y)\n",
    "param = {'booster': 'gbtree', 'objective': 'binary:logistic', 'scale_pos_weight': 1, 'max_depth': 3, 'eta': 0.3,\n",
    "         'gamma': 1}\n",
    "num_round = 2\n",
    "res = xgb.cv(param, dtrain, num_round, metrics=['error', 'auc'], nfold=5)\n",
    "print(\"cross-train accuracy train\", 1 - np.mean(res['train-error-mean']))\n",
    "print(\"cross-train gini\", np.mean(res['train-auc-mean'] * 2 - 1))\n",
    "print(\"cross-test accuracy test\", 1 - np.mean(res['test-error-mean']))\n",
    "print(\"cross-test gini\", np.mean(res['test-auc-mean'] * 2 - 1))"
   ]
  },
  {
   "cell_type": "markdown",
   "metadata": {},
   "source": [
    "### Так как точность для train и для test отличаются на 0.003, \n",
    "заключам что для этих параметров модель не переобучается.\n",
    "\n",
    "Обучаем модель на всей выборке, что на 1/5 больше предыдушего этапа, \n",
    "поэтому уменьшаем eta, чтобы исключить переобучение."
   ]
  },
  {
   "cell_type": "code",
   "execution_count": 60,
   "metadata": {},
   "outputs": [
    {
     "name": "stdout",
     "output_type": "stream",
     "text": [
      "accuracy\t0.886815\n",
      "auc 0.9115784067564483\n",
      "gini 0.8231568135128966\n",
      "              precision    recall  f1-score   support\n",
      "\n",
      "           0       0.89      0.95      0.92      1685\n",
      "           1       0.88      0.75      0.81       780\n",
      "\n",
      "    accuracy                           0.89      2465\n",
      "   macro avg       0.88      0.85      0.86      2465\n",
      "weighted avg       0.89      0.89      0.88      2465\n",
      "\n"
     ]
    }
   ],
   "source": [
    "param = {'booster': 'gbtree', 'objective': 'binary:logistic', 'scale_pos_weight': 1, 'max_depth': 3, 'eta': 0.3,\n",
    "         'gamma': 1}\n",
    "num_round = 2\n",
    "num_round = 6\n",
    "bst: Booster = xgb.train(param, dtrain, num_round)\n",
    "# test\n",
    "res: np.array = bst.predict(dtrain)\n",
    "    \n",
    "def result(y, truth):\n",
    "    print(\"accuracy\\t%f\" % (np.round(y) == truth).mean())\n",
    "    auc = sklearn.metrics.roc_auc_score(truth, y)\n",
    "    print(\"auc\", auc)\n",
    "    gini = 2 * auc - 1\n",
    "    print(\"gini\", gini)\n",
    "    rep = sklearn.metrics.classification_report(truth, np.round(y))\n",
    "    print(rep)\n",
    "    \n",
    "result(res, Y)"
   ]
  },
  {
   "cell_type": "markdown",
   "metadata": {},
   "source": [
    "Теперь протестируем модель на подвыборках для новых и поддержанных автомобилях"
   ]
  },
  {
   "cell_type": "code",
   "execution_count": 61,
   "metadata": {},
   "outputs": [
    {
     "name": "stdout",
     "output_type": "stream",
     "text": [
      "TEST new\n",
      "accuracy\t0.838292\n",
      "auc 0.8731036259758578\n",
      "gini 0.7462072519517156\n",
      "              precision    recall  f1-score   support\n",
      "\n",
      "           0       0.82      0.93      0.87      5158\n",
      "           1       0.87      0.70      0.78      3413\n",
      "\n",
      "    accuracy                           0.84      8571\n",
      "   macro avg       0.85      0.81      0.82      8571\n",
      "weighted avg       0.84      0.84      0.83      8571\n",
      "\n",
      "TEST uses\n",
      "accuracy\t0.886815\n",
      "auc 0.9115784067564483\n",
      "gini 0.8231568135128966\n",
      "              precision    recall  f1-score   support\n",
      "\n",
      "           0       0.89      0.95      0.92      1685\n",
      "           1       0.88      0.75      0.81       780\n",
      "\n",
      "    accuracy                           0.89      2465\n",
      "   macro avg       0.88      0.85      0.86      2465\n",
      "weighted avg       0.89      0.89      0.88      2465\n",
      "\n"
     ]
    }
   ],
   "source": [
    "print(\"TEST new\")\n",
    "df = df0[df0['`condition`_new'] == 1]\n",
    "X = df.drop(['system'], 1)\n",
    "X = X.drop(['under'], 1)\n",
    "Y = df['system']\n",
    "dtest = xgb.DMatrix(X, Y)  # , feature_names=f_names[1:])\n",
    "ypred2: np.array = bst.predict(dtest)\n",
    "result(ypred2, Y)\n",
    "\n",
    "print(\"TEST uses\")\n",
    "df = df0[df0['`condition`_uses'] == 1]\n",
    "X = df.drop(['system'], 1)\n",
    "X = X.drop(['under'], 1)\n",
    "Y = df['system']\n",
    "dtest = xgb.DMatrix(X, Y)  # , feature_names=f_names[1:])\n",
    "ypred2: np.array = bst.predict(dtest)\n",
    "result(ypred2, Y)"
   ]
  },
  {
   "cell_type": "markdown",
   "metadata": {},
   "source": [
    "# Модель обученная только на новых автомабилях."
   ]
  },
  {
   "cell_type": "code",
   "execution_count": 63,
   "metadata": {},
   "outputs": [
    {
     "name": "stdout",
     "output_type": "stream",
     "text": [
      "X строк, столбцов (8571, 210)\n",
      "cross-train accuracy train 0.8437545714285715\n",
      "cross-train gini 0.7636499428571429\n",
      "cross-test accuracy test 0.8390407714285715\n",
      "cross-test gini 0.7577827428571429\n"
     ]
    }
   ],
   "source": [
    "df = df0[df0['`condition`_new'] == 1].copy()\n",
    "X = df.drop(['system'], 1)\n",
    "X = X.drop(['under'], 1)\n",
    "Y = df['system']\n",
    "print(\"X строк, столбцов\", X.shape)\n",
    "dtrain = xgb.DMatrix(X, Y)\n",
    "res = xgb.cv(param, dtrain, num_round, metrics=['error', 'auc'], nfold=5)\n",
    "print(\"cross-train accuracy train\", 1 - np.mean(res['train-error-mean']))\n",
    "print(\"cross-train gini\", np.mean(res['train-auc-mean'] * 2 - 1))\n",
    "print(\"cross-test accuracy test\", 1 - np.mean(res['test-error-mean']))\n",
    "print(\"cross-test gini\", np.mean(res['test-auc-mean'] * 2 - 1))\n",
    "bst: Booster = xgb.train(param, dtrain, num_round)"
   ]
  },
  {
   "cell_type": "code",
   "execution_count": 64,
   "metadata": {},
   "outputs": [
    {
     "name": "stdout",
     "output_type": "stream",
     "text": [
      "TEST new\n",
      "accuracy\t0.842959\n",
      "auc 0.8881364981441418\n",
      "gini 0.7762729962882835\n",
      "              precision    recall  f1-score   support\n",
      "\n",
      "           0       0.83      0.94      0.88      5158\n",
      "           1       0.88      0.70      0.78      3413\n",
      "\n",
      "    accuracy                           0.84      8571\n",
      "   macro avg       0.85      0.82      0.83      8571\n",
      "weighted avg       0.85      0.84      0.84      8571\n",
      "\n",
      "TEST uses\n",
      "accuracy\t0.876268\n",
      "auc 0.8928703492353344\n",
      "gini 0.7857406984706687\n",
      "              precision    recall  f1-score   support\n",
      "\n",
      "           0       0.90      0.92      0.91      1685\n",
      "           1       0.82      0.77      0.80       780\n",
      "\n",
      "    accuracy                           0.88      2465\n",
      "   macro avg       0.86      0.85      0.85      2465\n",
      "weighted avg       0.87      0.88      0.88      2465\n",
      "\n"
     ]
    }
   ],
   "source": [
    "print(\"TEST new\")\n",
    "df = df0[df0['`condition`_new'] == 1]\n",
    "X = df.drop(['system'], 1)\n",
    "X = X.drop(['under'], 1)\n",
    "Y = df['system']\n",
    "dtest = xgb.DMatrix(X, Y)\n",
    "ypred2: np.array = bst.predict(dtest)\n",
    "result(ypred2, Y)\n",
    "\n",
    "print(\"TEST uses\")\n",
    "df = df0[df0['`condition`_uses'] == 1]\n",
    "X = df.drop(['system'], 1)\n",
    "X = X.drop(['under'], 1)\n",
    "Y = df['system']\n",
    "dtest = xgb.DMatrix(X, Y)\n",
    "ypred2: np.array = bst.predict(dtest)\n",
    "result(ypred2, Y)"
   ]
  },
  {
   "cell_type": "markdown",
   "metadata": {},
   "source": [
    "Как видим, точность модели, обученной на новых автомобилях, для поддержанных автомобилей отличается на 0.03 от точности модели обученной на всех данных.\n",
    "Поэтому применять отдельные модели для новых и поддержанных не целесообразно."
   ]
  },
  {
   "cell_type": "markdown",
   "metadata": {},
   "source": [
    "# Анализ возможностей модели "
   ]
  },
  {
   "cell_type": "code",
   "execution_count": 8,
   "metadata": {},
   "outputs": [
    {
     "name": "stdout",
     "output_type": "stream",
     "text": [
      "c5 51.00%\n",
      "c7 39.53%\n",
      "c8 21.33%\n",
      "c9 0.00%\n",
      "c95 0.00%\n",
      "\n",
      "17.92% процентов отклонений заявки верны с вероятностью 80%\n"
     ]
    }
   ],
   "source": [
    "from sklearn.model_selection import train_test_split\n",
    "X = df0.drop(['system'], 1)\n",
    "X = X.drop(['under'], 1)\n",
    "Y = df0['system']\n",
    "cp = {'c5': 0,\n",
    "      'c7': 0,\n",
    "      'c8': 0,\n",
    "      'c9': 0,\n",
    "      'c95': 0\n",
    "     }\n",
    "def an(param, num_round):\n",
    "    X_train, X_test, Y_train, Y_test = train_test_split(X, Y, test_size=0.33)\n",
    "    dtrain = xgb.DMatrix(X_train, Y_train)\n",
    "    dtest = xgb.DMatrix(X_test, Y_test)\n",
    "    bst: Booster = xgb.train(param, dtrain, num_round)\n",
    "    ypred2: np.array = bst.predict(dtest)\n",
    "    \n",
    "    for i, x in enumerate(ypred2):\n",
    "        if np.round(x) == Y[i] and Y[i] == 0:\n",
    "#             v = (0.5 - x) / 0.5\n",
    "            v = 1 - x\n",
    "            if v > 0.5:\n",
    "                cp['c5'] += 1\n",
    "            if v > 0.7:\n",
    "                cp['c7'] += 1\n",
    "            if v > 0.8:\n",
    "                cp['c8'] += 1\n",
    "            if v > 0.9:\n",
    "                cp['c9'] += 1\n",
    "            if v > 0.95:\n",
    "                cp['c95'] += 1\n",
    "    [print(x, \"%.2f%%\" % ((cp[x]/n)*100)) for x in cp.keys()]\n",
    "    print('')\n",
    "param = {'booster': 'gbtree', 'objective': 'binary:logistic', 'scale_pos_weight': 1, 'max_depth': 4, 'eta': 0.2,\n",
    "         'gamma': 0}\n",
    "an(param, num_round = 6)\n",
    "print(\"%.2f%%\" % (((cp['c8']/n) * 0.84)* 100), 'процентов отклонений заявки верны с вероятностью 80%')"
   ]
  },
  {
   "cell_type": "markdown",
   "metadata": {},
   "source": [
    "2% отколений верны с вероятностью больше 80%, из них не ошибочны 84%, то есть 0.02*0.84=0.01, \n",
    "1% отколений верны с вероятностью больше 80%\n",
    "# Подберем параметры так, чтобы увеличить точность для отклонений заявки."
   ]
  },
  {
   "cell_type": "code",
   "execution_count": null,
   "metadata": {},
   "outputs": [],
   "source": [
    "param = {'booster': 'gbtree', 'objective': 'binary:logistic', 'scale_pos_weight': 1.8, 'max_depth': 17, 'eta': 1,\n",
    "         'gamma': 0}\n",
    "num_round = 6\n",
    "dtrain = xgb.DMatrix(X, Y)\n",
    "res = xgb.cv(param, dtrain, num_round, metrics=['error', 'auc'], nfold=5)\n",
    "print(\"cross-train accuracy train\", 1 - np.mean(res['train-error-mean']))\n",
    "print(\"cross-train gini\", np.mean(res['train-auc-mean'] * 2 - 1))\n",
    "acc_test = 1 - np.mean(res['test-error-mean'])\n",
    "print(\"cross-test accuracy test\", acc_test)\n",
    "print(\"cross-test gini\", np.mean(res['test-auc-mean'] * 2 - 1))\n",
    "\n",
    "cp = {'c5': 0,\n",
    "      'c7': 0,\n",
    "      'c8': 0,\n",
    "      'c9': 0,\n",
    "      'c95': 0\n",
    "     }\n",
    "an(param, num_round)\n",
    "print(\"%.2f%%\" % (((cp['c7']/n) * acc_test)* 100), 'процентов предсказанных отклонений заявки верны с вероятностью 70%')\n",
    "print(\"%.2f%%\" % (((cp['c8']/n) * acc_test)* 100), 'процентов предсказанных отклонений заявки верны с вероятностью 80%')\n",
    "print(\"%.2f%%\" % (((cp['c9']/n) * acc_test)* 100), 'процентов предсказанных отклонений заявки верны с вероятностью 90%')\n",
    "print(\"%.2f%%\" % (((cp['c95']/n) * acc_test)* 100), 'процентов предсказанных отклонений заявки верны с вероятностью 95%')"
   ]
  },
  {
   "cell_type": "markdown",
   "metadata": {},
   "source": [
    "## Итог: Рузультаты неудовлетворительные\n",
    "# Обучив модель на одобренных андерайтером и протестируем на отклоненных системой."
   ]
  },
  {
   "cell_type": "code",
   "execution_count": 7,
   "metadata": {},
   "outputs": [
    {
     "ename": "XGBoostError",
     "evalue": "[18:22:03] /workspace/src/objective/regression_obj.cu:102: label must be in [0,1] for logistic regression\nStack trace:\n  [bt] (0) /home/u2/.local/lib/python3.7/site-packages/xgboost/./lib/libxgboost.so(dmlc::LogMessageFatal::~LogMessageFatal()+0x54) [0x7fb61b440614]\n  [bt] (1) /home/u2/.local/lib/python3.7/site-packages/xgboost/./lib/libxgboost.so(xgboost::obj::RegLossObj<xgboost::obj::LogisticClassification>::GetGradient(xgboost::HostDeviceVector<float> const&, xgboost::MetaInfo const&, int, xgboost::HostDeviceVector<xgboost::detail::GradientPairInternal<float> >*)+0x4cc) [0x7fb61b6eda1c]\n  [bt] (2) /home/u2/.local/lib/python3.7/site-packages/xgboost/./lib/libxgboost.so(xgboost::LearnerImpl::UpdateOneIter(int, xgboost::DMatrix*)+0x376) [0x7fb61b52c9a6]\n  [bt] (3) /home/u2/.local/lib/python3.7/site-packages/xgboost/./lib/libxgboost.so(XGBoosterUpdateOneIter+0x29) [0x7fb61b42f639]\n  [bt] (4) /usr/lib/x86_64-linux-gnu/libffi.so.6(ffi_call_unix64+0x4c) [0x7fb66578281e]\n  [bt] (5) /usr/lib/x86_64-linux-gnu/libffi.so.6(ffi_call+0x22f) [0x7fb6657821ef]\n  [bt] (6) /usr/lib/python3.7/lib-dynload/_ctypes.cpython-37m-x86_64-linux-gnu.so(_ctypes_callproc+0x581) [0x7fb664539581]\n  [bt] (7) /usr/lib/python3.7/lib-dynload/_ctypes.cpython-37m-x86_64-linux-gnu.so(+0x12aac) [0x7fb664539aac]\n  [bt] (8) /usr/bin/python3(_PyObject_FastCallKeywords+0x4e3) [0x5c9f63]\n\n",
     "output_type": "error",
     "traceback": [
      "\u001b[0;31m---------------------------------------------------------------------------\u001b[0m",
      "\u001b[0;31mXGBoostError\u001b[0m                              Traceback (most recent call last)",
      "\u001b[0;32m<ipython-input-7-10d0ff17944a>\u001b[0m in \u001b[0;36m<module>\u001b[0;34m\u001b[0m\n\u001b[1;32m     10\u001b[0m \u001b[0;31m# Кросс-валидация для отслеживания переобучения\u001b[0m\u001b[0;34m\u001b[0m\u001b[0;34m\u001b[0m\u001b[0;34m\u001b[0m\u001b[0m\n\u001b[1;32m     11\u001b[0m \u001b[0mdtrain\u001b[0m \u001b[0;34m=\u001b[0m \u001b[0mxgb\u001b[0m\u001b[0;34m.\u001b[0m\u001b[0mDMatrix\u001b[0m\u001b[0;34m(\u001b[0m\u001b[0mX\u001b[0m\u001b[0;34m,\u001b[0m \u001b[0mY\u001b[0m\u001b[0;34m[\u001b[0m\u001b[0;34m'under'\u001b[0m\u001b[0;34m]\u001b[0m\u001b[0;34m)\u001b[0m\u001b[0;34m\u001b[0m\u001b[0;34m\u001b[0m\u001b[0m\n\u001b[0;32m---> 12\u001b[0;31m \u001b[0mres\u001b[0m \u001b[0;34m=\u001b[0m \u001b[0mxgb\u001b[0m\u001b[0;34m.\u001b[0m\u001b[0mcv\u001b[0m\u001b[0;34m(\u001b[0m\u001b[0mparam\u001b[0m\u001b[0;34m,\u001b[0m \u001b[0mdtrain\u001b[0m\u001b[0;34m,\u001b[0m \u001b[0mnum_round\u001b[0m\u001b[0;34m,\u001b[0m \u001b[0mmetrics\u001b[0m\u001b[0;34m=\u001b[0m\u001b[0;34m[\u001b[0m\u001b[0;34m'error'\u001b[0m\u001b[0;34m,\u001b[0m \u001b[0;34m'auc'\u001b[0m\u001b[0;34m]\u001b[0m\u001b[0;34m,\u001b[0m \u001b[0mnfold\u001b[0m\u001b[0;34m=\u001b[0m\u001b[0;36m5\u001b[0m\u001b[0;34m)\u001b[0m\u001b[0;34m\u001b[0m\u001b[0;34m\u001b[0m\u001b[0m\n\u001b[0m\u001b[1;32m     13\u001b[0m \u001b[0mprint\u001b[0m\u001b[0;34m(\u001b[0m\u001b[0;34m\"cross-train accuracy train\"\u001b[0m\u001b[0;34m,\u001b[0m \u001b[0;36m1\u001b[0m \u001b[0;34m-\u001b[0m \u001b[0mnp\u001b[0m\u001b[0;34m.\u001b[0m\u001b[0mmean\u001b[0m\u001b[0;34m(\u001b[0m\u001b[0mres\u001b[0m\u001b[0;34m[\u001b[0m\u001b[0;34m'train-error-mean'\u001b[0m\u001b[0;34m]\u001b[0m\u001b[0;34m)\u001b[0m\u001b[0;34m)\u001b[0m\u001b[0;34m\u001b[0m\u001b[0;34m\u001b[0m\u001b[0m\n\u001b[1;32m     14\u001b[0m \u001b[0mprint\u001b[0m\u001b[0;34m(\u001b[0m\u001b[0;34m\"cross-train gini\"\u001b[0m\u001b[0;34m,\u001b[0m \u001b[0mnp\u001b[0m\u001b[0;34m.\u001b[0m\u001b[0mmean\u001b[0m\u001b[0;34m(\u001b[0m\u001b[0mres\u001b[0m\u001b[0;34m[\u001b[0m\u001b[0;34m'train-auc-mean'\u001b[0m\u001b[0;34m]\u001b[0m \u001b[0;34m*\u001b[0m \u001b[0;36m2\u001b[0m \u001b[0;34m-\u001b[0m \u001b[0;36m1\u001b[0m\u001b[0;34m)\u001b[0m\u001b[0;34m)\u001b[0m\u001b[0;34m\u001b[0m\u001b[0;34m\u001b[0m\u001b[0m\n",
      "\u001b[0;32m~/.local/lib/python3.7/site-packages/xgboost/training.py\u001b[0m in \u001b[0;36mcv\u001b[0;34m(params, dtrain, num_boost_round, nfold, stratified, folds, metrics, obj, feval, maximize, early_stopping_rounds, fpreproc, as_pandas, verbose_eval, show_stdv, seed, callbacks, shuffle)\u001b[0m\n\u001b[1;32m    493\u001b[0m                            evaluation_result_list=None))\n\u001b[1;32m    494\u001b[0m         \u001b[0;32mfor\u001b[0m \u001b[0mfold\u001b[0m \u001b[0;32min\u001b[0m \u001b[0mcvfolds\u001b[0m\u001b[0;34m:\u001b[0m\u001b[0;34m\u001b[0m\u001b[0;34m\u001b[0m\u001b[0m\n\u001b[0;32m--> 495\u001b[0;31m             \u001b[0mfold\u001b[0m\u001b[0;34m.\u001b[0m\u001b[0mupdate\u001b[0m\u001b[0;34m(\u001b[0m\u001b[0mi\u001b[0m\u001b[0;34m,\u001b[0m \u001b[0mobj\u001b[0m\u001b[0;34m)\u001b[0m\u001b[0;34m\u001b[0m\u001b[0;34m\u001b[0m\u001b[0m\n\u001b[0m\u001b[1;32m    496\u001b[0m         \u001b[0mres\u001b[0m \u001b[0;34m=\u001b[0m \u001b[0maggcv\u001b[0m\u001b[0;34m(\u001b[0m\u001b[0;34m[\u001b[0m\u001b[0mf\u001b[0m\u001b[0;34m.\u001b[0m\u001b[0meval\u001b[0m\u001b[0;34m(\u001b[0m\u001b[0mi\u001b[0m\u001b[0;34m,\u001b[0m \u001b[0mfeval\u001b[0m\u001b[0;34m)\u001b[0m \u001b[0;32mfor\u001b[0m \u001b[0mf\u001b[0m \u001b[0;32min\u001b[0m \u001b[0mcvfolds\u001b[0m\u001b[0;34m]\u001b[0m\u001b[0;34m)\u001b[0m\u001b[0;34m\u001b[0m\u001b[0;34m\u001b[0m\u001b[0m\n\u001b[1;32m    497\u001b[0m \u001b[0;34m\u001b[0m\u001b[0m\n",
      "\u001b[0;32m~/.local/lib/python3.7/site-packages/xgboost/training.py\u001b[0m in \u001b[0;36mupdate\u001b[0;34m(self, iteration, fobj)\u001b[0m\n\u001b[1;32m    221\u001b[0m     \u001b[0;32mdef\u001b[0m \u001b[0mupdate\u001b[0m\u001b[0;34m(\u001b[0m\u001b[0mself\u001b[0m\u001b[0;34m,\u001b[0m \u001b[0miteration\u001b[0m\u001b[0;34m,\u001b[0m \u001b[0mfobj\u001b[0m\u001b[0;34m)\u001b[0m\u001b[0;34m:\u001b[0m\u001b[0;34m\u001b[0m\u001b[0;34m\u001b[0m\u001b[0m\n\u001b[1;32m    222\u001b[0m         \u001b[0;34m\"\"\"\"Update the boosters for one iteration\"\"\"\u001b[0m\u001b[0;34m\u001b[0m\u001b[0;34m\u001b[0m\u001b[0m\n\u001b[0;32m--> 223\u001b[0;31m         \u001b[0mself\u001b[0m\u001b[0;34m.\u001b[0m\u001b[0mbst\u001b[0m\u001b[0;34m.\u001b[0m\u001b[0mupdate\u001b[0m\u001b[0;34m(\u001b[0m\u001b[0mself\u001b[0m\u001b[0;34m.\u001b[0m\u001b[0mdtrain\u001b[0m\u001b[0;34m,\u001b[0m \u001b[0miteration\u001b[0m\u001b[0;34m,\u001b[0m \u001b[0mfobj\u001b[0m\u001b[0;34m)\u001b[0m\u001b[0;34m\u001b[0m\u001b[0;34m\u001b[0m\u001b[0m\n\u001b[0m\u001b[1;32m    224\u001b[0m \u001b[0;34m\u001b[0m\u001b[0m\n\u001b[1;32m    225\u001b[0m     \u001b[0;32mdef\u001b[0m \u001b[0meval\u001b[0m\u001b[0;34m(\u001b[0m\u001b[0mself\u001b[0m\u001b[0;34m,\u001b[0m \u001b[0miteration\u001b[0m\u001b[0;34m,\u001b[0m \u001b[0mfeval\u001b[0m\u001b[0;34m)\u001b[0m\u001b[0;34m:\u001b[0m\u001b[0;34m\u001b[0m\u001b[0;34m\u001b[0m\u001b[0m\n",
      "\u001b[0;32m~/.local/lib/python3.7/site-packages/xgboost/core.py\u001b[0m in \u001b[0;36mupdate\u001b[0;34m(self, dtrain, iteration, fobj)\u001b[0m\n\u001b[1;32m   1246\u001b[0m             _check_call(_LIB.XGBoosterUpdateOneIter(self.handle,\n\u001b[1;32m   1247\u001b[0m                                                     \u001b[0mctypes\u001b[0m\u001b[0;34m.\u001b[0m\u001b[0mc_int\u001b[0m\u001b[0;34m(\u001b[0m\u001b[0miteration\u001b[0m\u001b[0;34m)\u001b[0m\u001b[0;34m,\u001b[0m\u001b[0;34m\u001b[0m\u001b[0;34m\u001b[0m\u001b[0m\n\u001b[0;32m-> 1248\u001b[0;31m                                                     dtrain.handle))\n\u001b[0m\u001b[1;32m   1249\u001b[0m         \u001b[0;32melse\u001b[0m\u001b[0;34m:\u001b[0m\u001b[0;34m\u001b[0m\u001b[0;34m\u001b[0m\u001b[0m\n\u001b[1;32m   1250\u001b[0m             \u001b[0mpred\u001b[0m \u001b[0;34m=\u001b[0m \u001b[0mself\u001b[0m\u001b[0;34m.\u001b[0m\u001b[0mpredict\u001b[0m\u001b[0;34m(\u001b[0m\u001b[0mdtrain\u001b[0m\u001b[0;34m,\u001b[0m \u001b[0mtraining\u001b[0m\u001b[0;34m=\u001b[0m\u001b[0;32mTrue\u001b[0m\u001b[0;34m)\u001b[0m\u001b[0;34m\u001b[0m\u001b[0;34m\u001b[0m\u001b[0m\n",
      "\u001b[0;32m~/.local/lib/python3.7/site-packages/xgboost/core.py\u001b[0m in \u001b[0;36m_check_call\u001b[0;34m(ret)\u001b[0m\n\u001b[1;32m    187\u001b[0m     \"\"\"\n\u001b[1;32m    188\u001b[0m     \u001b[0;32mif\u001b[0m \u001b[0mret\u001b[0m \u001b[0;34m!=\u001b[0m \u001b[0;36m0\u001b[0m\u001b[0;34m:\u001b[0m\u001b[0;34m\u001b[0m\u001b[0;34m\u001b[0m\u001b[0m\n\u001b[0;32m--> 189\u001b[0;31m         \u001b[0;32mraise\u001b[0m \u001b[0mXGBoostError\u001b[0m\u001b[0;34m(\u001b[0m\u001b[0mpy_str\u001b[0m\u001b[0;34m(\u001b[0m\u001b[0m_LIB\u001b[0m\u001b[0;34m.\u001b[0m\u001b[0mXGBGetLastError\u001b[0m\u001b[0;34m(\u001b[0m\u001b[0;34m)\u001b[0m\u001b[0;34m)\u001b[0m\u001b[0;34m)\u001b[0m\u001b[0;34m\u001b[0m\u001b[0;34m\u001b[0m\u001b[0m\n\u001b[0m\u001b[1;32m    190\u001b[0m \u001b[0;34m\u001b[0m\u001b[0m\n\u001b[1;32m    191\u001b[0m \u001b[0;34m\u001b[0m\u001b[0m\n",
      "\u001b[0;31mXGBoostError\u001b[0m: [18:22:03] /workspace/src/objective/regression_obj.cu:102: label must be in [0,1] for logistic regression\nStack trace:\n  [bt] (0) /home/u2/.local/lib/python3.7/site-packages/xgboost/./lib/libxgboost.so(dmlc::LogMessageFatal::~LogMessageFatal()+0x54) [0x7fb61b440614]\n  [bt] (1) /home/u2/.local/lib/python3.7/site-packages/xgboost/./lib/libxgboost.so(xgboost::obj::RegLossObj<xgboost::obj::LogisticClassification>::GetGradient(xgboost::HostDeviceVector<float> const&, xgboost::MetaInfo const&, int, xgboost::HostDeviceVector<xgboost::detail::GradientPairInternal<float> >*)+0x4cc) [0x7fb61b6eda1c]\n  [bt] (2) /home/u2/.local/lib/python3.7/site-packages/xgboost/./lib/libxgboost.so(xgboost::LearnerImpl::UpdateOneIter(int, xgboost::DMatrix*)+0x376) [0x7fb61b52c9a6]\n  [bt] (3) /home/u2/.local/lib/python3.7/site-packages/xgboost/./lib/libxgboost.so(XGBoosterUpdateOneIter+0x29) [0x7fb61b42f639]\n  [bt] (4) /usr/lib/x86_64-linux-gnu/libffi.so.6(ffi_call_unix64+0x4c) [0x7fb66578281e]\n  [bt] (5) /usr/lib/x86_64-linux-gnu/libffi.so.6(ffi_call+0x22f) [0x7fb6657821ef]\n  [bt] (6) /usr/lib/python3.7/lib-dynload/_ctypes.cpython-37m-x86_64-linux-gnu.so(_ctypes_callproc+0x581) [0x7fb664539581]\n  [bt] (7) /usr/lib/python3.7/lib-dynload/_ctypes.cpython-37m-x86_64-linux-gnu.so(+0x12aac) [0x7fb664539aac]\n  [bt] (8) /usr/bin/python3(_PyObject_FastCallKeywords+0x4e3) [0x5c9f63]\n\n"
     ]
    }
   ],
   "source": [
    "from sklearn.model_selection import KFold, StratifiedShuffleSplit\n",
    "\n",
    "X = df0.drop(['system'], 1)\n",
    "X = X.drop(['under'], 1)\n",
    "Y = df0[['system', 'under']]\n",
    "\n",
    "param = {'booster': 'gbtree', 'objective': 'binary:logistic', 'scale_pos_weight': 45, 'max_depth': 3, 'eta': 0.1,\n",
    "         'gamma': 1}\n",
    "num_round = 4\n",
    "# Кросс-валидация для отслеживания переобучения\n",
    "dtrain = xgb.DMatrix(X, Y['under'])\n",
    "res = xgb.cv(param, dtrain, num_round, metrics=['error', 'auc'], nfold=5)\n",
    "print(\"cross-train accuracy train\", 1 - np.mean(res['train-error-mean']))\n",
    "print(\"cross-train gini\", np.mean(res['train-auc-mean'] * 2 - 1))\n",
    "print(\"cross-test accuracy test\", 1 - np.mean(res['test-error-mean']))\n",
    "print(\"cross-test gini\", np.mean(res['test-auc-mean'] * 2 - 1))\n",
    "print('')\n",
    "# Кросс-валидация для уменьшения FalseNegative\n",
    "res1 = []\n",
    "res2 = []\n",
    "res3 = []\n",
    "res4 = []\n",
    "acc1 = []\n",
    "gini1 = []\n",
    "\n",
    "res21 = []\n",
    "res22 = []\n",
    "res23 = []\n",
    "res24 = []\n",
    "\n",
    "acc2 = []\n",
    "gini2 = []\n",
    "def run():\n",
    "    for train_index, test_index in skf.split(X, Y):\n",
    "        X_train, X_test = X.iloc[train_index, :], X.iloc[test_index, :]\n",
    "        Y_train, Y_test = Y.iloc[train_index, :], Y.iloc[test_index, :]\n",
    "\n",
    "        # Обучаем на фолде отклоненных андерайтером\n",
    "        dtrain = xgb.DMatrix(X_train, Y_train['under']) # under\n",
    "        bst: Booster = xgb.train(param, dtrain, num_round)\n",
    "\n",
    "        # Тестируем на отклоненных системой\n",
    "        dtest = xgb.DMatrix(X_test, Y_test['system']) # system\n",
    "        ypred2: np.array = bst.predict(dtest)\n",
    "\n",
    "        cn = []\n",
    "        cp = []\n",
    "        for i, x in enumerate(Y_test['system']):\n",
    "            if x == 0:\n",
    "                cn.append(ypred2[i])\n",
    "            if x == 1:\n",
    "                cp.append(ypred2[i])\n",
    "        res21.append((np.round(cn) == 0).mean())\n",
    "        res22.append((np.round(cn) == 1).mean())\n",
    "        res23.append((np.round(cp) == 1).mean())\n",
    "        res24.append((np.round(cp) == 0).mean())\n",
    "        acc1.append((np.round(ypred2) == Y_test['system']).mean())\n",
    "        auc = sklearn.metrics.roc_auc_score(Y_test['system'], ypred2)\n",
    "        gini1.append(2 * auc - 1)\n",
    "\n",
    "\n",
    "        # тестируем на отклоненных андерайтором\n",
    "        dtest = xgb.DMatrix(X_test, Y_test['under'])\n",
    "        ypred2: np.array = bst.predict(dtest)\n",
    "\n",
    "        cn = []\n",
    "        cp = []\n",
    "        for i, x in enumerate(Y_test['under']):\n",
    "            if x == 0:\n",
    "                cn.append(ypred2[i])\n",
    "            if x == 1:\n",
    "                cp.append(ypred2[i])\n",
    "        res1.append((np.round(cn) == 0).mean())\n",
    "        res2.append((np.round(cn) == 1).mean())\n",
    "        res3.append((np.round(cp) == 1).mean())\n",
    "        res4.append((np.round(cp) == 0).mean())\n",
    "        acc2.append((np.round(ypred2) == Y_test['under']).mean())\n",
    "        auc = sklearn.metrics.roc_auc_score(Y_test['under'], ypred2)\n",
    "        gini2.append(2 * auc - 1)\n",
    "\n",
    "    print(\"Результаты кросс-валидации тестирования на отклоненных системой\")\n",
    "    print(\"Точность:\", np.array(acc1).mean())\n",
    "    print(\"Коэффициент gini:\", np.array(gini1).mean())\n",
    "    print(\"TrueNegative/Negative для 0:\\t%f\" % np.array(res21).mean())\n",
    "    print(\"FalsePositive/Negative для 0:\\t%f\" % np.array(res22).mean())\n",
    "    print(\"TruePositive/Positive для 1:\\t%f\" % np.array(res23).mean())\n",
    "    print(\"FalseNegative/Positive для 1:\\t%f\" % np.array(res24).mean(), \"\\n\")\n",
    "\n",
    "    print(\"Результаты кросс-валидации тестирования на отклоненных андерайтором\")\n",
    "    print(\"Точность:\", np.array(acc2).mean())\n",
    "    print(\"Коэффициент gini:\", np.array(gini2).mean())\n",
    "    print(\"TrueNegative/Negative для 0:\\t%f\" % np.array(res1).mean())\n",
    "    print(\"FalsePositive/Negative для 0:\\t%f\" % np.array(res2).mean())\n",
    "    print(\"TruePositive/Positive для 1:\\t%f\" % np.array(res3).mean())\n",
    "    print(\"* FalseNegative/Positive для 1:\\t%f\" % np.array(res4).mean())\n",
    "\n",
    "print(\"KFold\\n\")\n",
    "skf = KFold(n_splits=5)\n",
    "run()\n",
    "print(\"\\nStratifiedShuffleSplit\\n\")\n",
    "skf = StratifiedShuffleSplit(n_splits=5)\n",
    "run()"
   ]
  },
  {
   "cell_type": "markdown",
   "metadata": {},
   "source": [
    "# Нам удалось обучить  модель определяющую отклонение системой заявки. Вероятность отвергнуть хорошую заявку ~ 1%."
   ]
  },
  {
   "cell_type": "markdown",
   "metadata": {},
   "source": [
    "# Проанализируем корреляцию андерайтера с анкетным скорингом."
   ]
  },
  {
   "cell_type": "code",
   "execution_count": 75,
   "metadata": {},
   "outputs": [
    {
     "name": "stdout",
     "output_type": "stream",
     "text": [
      "Коэффициент корреляции между Анкетным Скорингом и Андерайтором: -0.012431190608889548\n"
     ]
    },
    {
     "data": {
      "image/png": "[encoded data removed]",
      "text/plain": [
       "<Figure size 432x288 with 1 Axes>"
      ]
     },
     "metadata": {
      "needs_background": "light"
     },
     "output_type": "display_data"
    }
   ],
   "source": [
    "from scipy.stats import pearsonr\n",
    "a = pearsonr(df0['anket_score'], df0['under'])\n",
    "print(\"Коэффициент корреляции между Анкетным Скорингом и Андерайтором:\", a[0])\n",
    "\n",
    "df0.groupby('under')['anket_score'].plot.hist(bins=20, ylim=(0,450))\n",
    "plt.legend()\n",
    "plt.xticks()\n",
    "plt.xlabel('Гистограмма анкетного скоринга и решения андерайтера')\n",
    "plt.show()"
   ]
  },
  {
   "cell_type": "markdown",
   "metadata": {},
   "source": [
    "# Исследуем как влияет анкетный скоринг на нашу модель."
   ]
  },
  {
   "cell_type": "code",
   "execution_count": 1,
   "metadata": {},
   "outputs": [
    {
     "ename": "NameError",
     "evalue": "name 'X' is not defined",
     "output_type": "error",
     "traceback": [
      "\u001b[0;31m---------------------------------------------------------------------------\u001b[0m",
      "\u001b[0;31mNameError\u001b[0m                                 Traceback (most recent call last)",
      "\u001b[0;32m<ipython-input-1-caa53c18d502>\u001b[0m in \u001b[0;36m<module>\u001b[0;34m\u001b[0m\n\u001b[1;32m      8\u001b[0m \u001b[0;32mfrom\u001b[0m \u001b[0msklearn\u001b[0m\u001b[0;34m.\u001b[0m\u001b[0mmodel_selection\u001b[0m \u001b[0;32mimport\u001b[0m \u001b[0mStratifiedKFold\u001b[0m\u001b[0;34m\u001b[0m\u001b[0;34m\u001b[0m\u001b[0m\n\u001b[1;32m      9\u001b[0m \u001b[0;34m\u001b[0m\u001b[0m\n\u001b[0;32m---> 10\u001b[0;31m \u001b[0mimportance_sum\u001b[0m \u001b[0;34m=\u001b[0m \u001b[0mnp\u001b[0m\u001b[0;34m.\u001b[0m\u001b[0mzeros\u001b[0m\u001b[0;34m(\u001b[0m\u001b[0mX\u001b[0m\u001b[0;34m.\u001b[0m\u001b[0mshape\u001b[0m\u001b[0;34m[\u001b[0m\u001b[0;36m1\u001b[0m\u001b[0;34m]\u001b[0m\u001b[0;34m,\u001b[0m \u001b[0mdtype\u001b[0m\u001b[0;34m=\u001b[0m\u001b[0mnp\u001b[0m\u001b[0;34m.\u001b[0m\u001b[0mfloat\u001b[0m\u001b[0;34m)\u001b[0m\u001b[0;34m\u001b[0m\u001b[0;34m\u001b[0m\u001b[0m\n\u001b[0m\u001b[1;32m     11\u001b[0m \u001b[0;32mfor\u001b[0m \u001b[0mi\u001b[0m \u001b[0;32min\u001b[0m \u001b[0mrange\u001b[0m\u001b[0;34m(\u001b[0m\u001b[0;36m100\u001b[0m\u001b[0;34m)\u001b[0m\u001b[0;34m:\u001b[0m\u001b[0;34m\u001b[0m\u001b[0;34m\u001b[0m\u001b[0m\n\u001b[1;32m     12\u001b[0m     \u001b[0mdepth\u001b[0m \u001b[0;34m=\u001b[0m \u001b[0mint\u001b[0m\u001b[0;34m(\u001b[0m\u001b[0;34m(\u001b[0m\u001b[0;36m870\u001b[0m \u001b[0;34m-\u001b[0m \u001b[0;36m500\u001b[0m\u001b[0;34m)\u001b[0m \u001b[0;34m/\u001b[0m \u001b[0;36m500\u001b[0m \u001b[0;34m*\u001b[0m \u001b[0;36m9\u001b[0m\u001b[0;34m)\u001b[0m  \u001b[0;31m# 6 - 15 # perfect 5\u001b[0m\u001b[0;34m\u001b[0m\u001b[0;34m\u001b[0m\u001b[0m\n",
      "\u001b[0;31mNameError\u001b[0m: name 'X' is not defined"
     ]
    }
   ],
   "source": [
    "# dtrain = xgb.DMatrix(X, Y['system'])\n",
    "# param = {'booster': 'gbtree', 'objective': 'binary:logistic', 'scale_pos_weight': 1.7, 'max_depth': 17, 'eta': 0.5,\n",
    "#              'gamma': 0}\n",
    "# num_round = 6\n",
    "# bst: Booster = xgb.train(param, dtrain, num_round)\n",
    "from sklearn.ensemble import RandomForestClassifier\n",
    "import numpy as np\n",
    "from sklearn.model_selection import StratifiedKFold\n",
    "\n",
    "importance_sum = np.zeros(X.shape[1], dtype=np.float)\n",
    "for i in range(100):\n",
    "    depth = int((870 - 500) / 500 * 9)  # 6 - 15 # perfect 5\n",
    "    n_est = int((950 - i) / 500 * 32) # 28-60 # perfect 50\n",
    "    model = RandomForestClassifier(random_state=i, max_depth=depth, \n",
    "                                   n_estimators=n_est, max_leaf_nodes=17, \n",
    "                                   min_samples_split=2)\n",
    "    model.fit(X, Y['system'])\n",
    "    # TEST\n",
    "    y_pred = model.predict(X)\n",
    "\n",
    "    # FEATURE IMPORTANCE\n",
    "    importances = model.feature_importances_  # feature importance\n",
    "    importance_sum += importances\n",
    "\n",
    "indices = np.argsort(importance_sum)[::-1]  # sort indexes\n",
    "\n",
    "# Print the feature ranking\n",
    "print(\"Feature ranking:\")\n",
    "print(importance_sum.shape)\n",
    "\n",
    "for f in range(X.shape[1])[:10]: # первые 10\n",
    "    print(\"%d. %s (%f)\" % (f + 1, X.columns[indices[f]], importance_sum[indices[f]] / 100))"
   ]
  },
  {
   "cell_type": "markdown",
   "metadata": {},
   "source": [
    "# Зависимость вероятности одобрения заявки обученной моделью от скоринга.\n",
    "Используется усреднение на скользящем окне 5 ближайших значениях."
   ]
  },
  {
   "cell_type": "code",
   "execution_count": 8,
   "metadata": {},
   "outputs": [
    {
     "name": "stdout",
     "output_type": "stream",
     "text": [
      "        anket_score           ver\n",
      "count  11036.000000  11036.000000\n",
      "mean      80.117978      0.364563\n",
      "std       25.430379      0.093334\n",
      "min        0.000000      0.330146\n",
      "25%       65.000000      0.330146\n",
      "50%       80.000000      0.330146\n",
      "75%       94.000000      0.330146\n",
      "max      188.000000      0.668961\n"
     ]
    },
    {
     "data": {
      "image/png": "[encoded data removed]",
      "text/plain": [
       "<Figure size 432x288 with 1 Axes>"
      ]
     },
     "metadata": {
      "needs_background": "light"
     },
     "output_type": "display_data"
    },
    {
     "data": {
      "image/png": "[encoded data removed]",
      "text/plain": [
       "<Figure size 432x288 with 1 Axes>"
      ]
     },
     "metadata": {
      "needs_background": "light"
     },
     "output_type": "display_data"
    },
    {
     "data": {
      "image/png": "[encoded data removed]",
      "text/plain": [
       "<Figure size 432x288 with 1 Axes>"
      ]
     },
     "metadata": {
      "needs_background": "light"
     },
     "output_type": "display_data"
    }
   ],
   "source": [
    "X = df0.drop(['system'], 1)\n",
    "X = X.drop(['under'], 1)\n",
    "Y = df0[['system', 'under']]\n",
    "\n",
    "param = {'booster': 'gbtree', 'objective': 'binary:logistic', 'scale_pos_weight': 45, 'max_depth': 3, 'eta': 0.1,\n",
    "         'gamma': 1}\n",
    "num_round = 4\n",
    "\n",
    "# создадим модель\n",
    "dtrain = xgb.DMatrix(X, Y['under'])\n",
    "bst: Booster = xgb.train(param, dtrain, num_round)\n",
    "ypred: np.array = bst.predict(dtrain)\n",
    "\n",
    "scor_ver = pandas.concat([X['anket_score'], pandas.Series(ypred, name='ver')], axis=1)\n",
    "print(scor_ver.describe())\n",
    "\n",
    "# вероятности одобрения андерайтором \n",
    "# для Для поддержанных автомобилей\n",
    "X_uses = X[X['`condition`_uses'] == 1]\n",
    "dtrain = xgb.DMatrix(X_uses, Y['under'])\n",
    "ypred2: np.array = bst.predict(dtrain)\n",
    "scor1 = list(sorted(set(X_uses['anket_score'].values)))\n",
    "mean_ver1 = []\n",
    "for x in scor1:\n",
    "    mean = np.mean(scor_ver[scor_ver['anket_score'] == x]['ver'].values)\n",
    "    mean_ver1.append(mean)\n",
    "                    \n",
    "# Для новых автомобилей\n",
    "X_new = X[X['`condition`_new']==1]\n",
    "dtrain = xgb.DMatrix(X_new, Y['under'])\n",
    "ypred2: np.array = bst.predict(dtrain)\n",
    "scor2 = list(sorted(set(X_new['anket_score'].values)))\n",
    "mean_ver2 = []\n",
    "for x in scor2:\n",
    "    mean = np.mean(scor_ver[scor_ver['anket_score'] == x]['ver'].values)\n",
    "    mean_ver2.append(mean)\n",
    "\n",
    "mean_ver2 = pandas.Series(mean_ver2).rolling(window=5).mean()\n",
    "plt.scatter(scor2, mean_ver2, color='blue', marker='.')\n",
    "plt.xlabel('Для новых')\n",
    "plt.show()\n",
    "\n",
    "mean_ver1 = pandas.Series(mean_ver1).rolling(window=5).mean()\n",
    "plt.scatter(scor1, mean_ver1, color='red', marker='.')\n",
    "plt.xlabel('Для поддержанных')\n",
    "plt.show()\n",
    "\n",
    "plt.scatter(scor1, mean_ver1, color='red', marker='.')\n",
    "plt.scatter(scor2, mean_ver2, color='blue', marker='.')\n",
    "plt.xlabel('Для поддержанных(red) и новых(blue)')\n",
    "plt.show()"
   ]
  },
  {
   "cell_type": "markdown",
   "metadata": {},
   "source": [
    "Вероятность принятия решения должна рости с увеличением скоринга. Однако мы видим что она падает до 80-100, после начинает повышаться"
   ]
  },
  {
   "cell_type": "markdown",
   "metadata": {},
   "source": [
    "# PDP Влияние анкетного скоринга на решение модели"
   ]
  },
  {
   "cell_type": "markdown",
   "metadata": {},
   "source": [
    "## Поддержанных автомобилей"
   ]
  },
  {
   "cell_type": "code",
   "execution_count": null,
   "metadata": {},
   "outputs": [],
   "source": [
    "from sklearn.inspection import partial_dependence\n",
    "from sklearn.inspection import plot_partial_dependence\n",
    "from xgboost import XGBClassifier\n",
    "\n",
    "X = df0.drop(['system'], 1)\n",
    "X = X.drop(['under'], 1)\n",
    "Y = df0[['system', 'under']]\n",
    "\n",
    "# print(X.columns.values)\n",
    "# exit(0)\n",
    "# train model\n",
    "model = XGBClassifier(booster='gbtree', objective='binary:logistic', scale_pos_weight=45, max_depth=3,\n",
    "                      learning_rate=0.1, gamma=1, num_round=4)\n",
    "est = model.fit(X, Y['under'])\n",
    "\n",
    "# a = partial_dependence(est, features=[0], X=X, percentiles=(0, 1), grid_resolution=2)\n",
    "# print(a)\n",
    "X_uses = X[X['`condition`_uses'] == 1]\n",
    "_ = plot_partial_dependence(est, X_uses, features=['anket_score'], n_jobs=4, grid_resolution=20) \n"
   ]
  },
  {
   "cell_type": "markdown",
   "metadata": {},
   "source": [
    "## Новых автомобилей"
   ]
  },
  {
   "cell_type": "code",
   "execution_count": 9,
   "metadata": {},
   "outputs": [
    {
     "data": {
      "image/png": "[encoded data removed]",
      "text/plain": [
       "<Figure size 432x288 with 2 Axes>"
      ]
     },
     "metadata": {
      "needs_background": "light"
     },
     "output_type": "display_data"
    }
   ],
   "source": [
    "X_new = X[X['`condition`_new']==1]\n",
    "_ = plot_partial_dependence(est, X_new, features=['anket_score'], n_jobs=4, grid_resolution=20) "
   ]
  },
  {
   "cell_type": "code",
   "execution_count": null,
   "metadata": {},
   "outputs": [],
   "source": []
  }
 ],
 "metadata": {
  "kernelspec": {
   "display_name": "Python 3",
   "language": "python",
   "name": "python3"
  },
  "language_info": {
   "codemirror_mode": {
    "name": "ipython",
    "version": 3
   },
   "file_extension": ".py",
   "mimetype": "text/x-python",
   "name": "python",
   "nbconvert_exporter": "python",
   "pygments_lexer": "ipython3",
   "version": "3.8.5"
  }
 },
 "nbformat": 4,
 "nbformat_minor": 4
}
